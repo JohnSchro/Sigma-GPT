{
 "cells": [
  {
   "cell_type": "code",
   "execution_count": 1,
   "id": "initial_id",
   "metadata": {
    "collapsed": true,
    "ExecuteTime": {
     "end_time": "2024-06-25T22:56:03.968371Z",
     "start_time": "2024-06-25T22:56:02.290604Z"
    }
   },
   "outputs": [
    {
     "name": "stdout",
     "output_type": "stream",
     "text": [
      "Requirement already satisfied: transformers in /Users/johnschroter/miniforge3/lib/python3.10/site-packages (4.41.2)\r\n",
      "Requirement already satisfied: requests in /Users/johnschroter/miniforge3/lib/python3.10/site-packages (from transformers) (2.31.0)\r\n",
      "Requirement already satisfied: regex!=2019.12.17 in /Users/johnschroter/miniforge3/lib/python3.10/site-packages (from transformers) (2023.12.25)\r\n",
      "Requirement already satisfied: filelock in /Users/johnschroter/miniforge3/lib/python3.10/site-packages (from transformers) (3.10.6)\r\n",
      "Requirement already satisfied: tokenizers<0.20,>=0.19 in /Users/johnschroter/miniforge3/lib/python3.10/site-packages (from transformers) (0.19.1)\r\n",
      "Requirement already satisfied: huggingface-hub<1.0,>=0.23.0 in /Users/johnschroter/miniforge3/lib/python3.10/site-packages (from transformers) (0.23.4)\r\n",
      "Requirement already satisfied: pyyaml>=5.1 in /Users/johnschroter/miniforge3/lib/python3.10/site-packages (from transformers) (6.0.1)\r\n",
      "Requirement already satisfied: safetensors>=0.4.1 in /Users/johnschroter/miniforge3/lib/python3.10/site-packages (from transformers) (0.4.2)\r\n",
      "Requirement already satisfied: numpy>=1.17 in /Users/johnschroter/miniforge3/lib/python3.10/site-packages (from transformers) (1.24.1)\r\n",
      "Requirement already satisfied: packaging>=20.0 in /Users/johnschroter/miniforge3/lib/python3.10/site-packages (from transformers) (23.0)\r\n",
      "Requirement already satisfied: tqdm>=4.27 in /Users/johnschroter/miniforge3/lib/python3.10/site-packages (from transformers) (4.65.0)\r\n",
      "Requirement already satisfied: typing-extensions>=3.7.4.3 in /Users/johnschroter/miniforge3/lib/python3.10/site-packages (from huggingface-hub<1.0,>=0.23.0->transformers) (4.10.0)\r\n",
      "Requirement already satisfied: fsspec>=2023.5.0 in /Users/johnschroter/miniforge3/lib/python3.10/site-packages (from huggingface-hub<1.0,>=0.23.0->transformers) (2023.9.2)\r\n",
      "Requirement already satisfied: idna<4,>=2.5 in /Users/johnschroter/miniforge3/lib/python3.10/site-packages (from requests->transformers) (3.4)\r\n",
      "Requirement already satisfied: urllib3<3,>=1.21.1 in /Users/johnschroter/miniforge3/lib/python3.10/site-packages (from requests->transformers) (1.26.13)\r\n",
      "Requirement already satisfied: charset-normalizer<4,>=2 in /Users/johnschroter/miniforge3/lib/python3.10/site-packages (from requests->transformers) (2.1.1)\r\n",
      "Requirement already satisfied: certifi>=2017.4.17 in /Users/johnschroter/miniforge3/lib/python3.10/site-packages (from requests->transformers) (2022.12.7)\r\n"
     ]
    }
   ],
   "source": [
    "!pip install transformers -U"
   ]
  },
  {
   "cell_type": "code",
   "execution_count": 2,
   "outputs": [
    {
     "name": "stdout",
     "output_type": "stream",
     "text": [
      "Adding path: /Users/johnschroter/IdeaProjects/Sigma-GPT/transformers/src\n"
     ]
    }
   ],
   "source": [
    "import sys\n",
    "import os\n",
    "\n",
    "# Add the correct path to the local transformers directory\n",
    "local_path = os.path.abspath('../transformers/src/')\n",
    "print(\"Adding path:\", local_path)  # Verify the path to be added\n",
    "sys.path.insert(0, local_path)"
   ],
   "metadata": {
    "collapsed": false,
    "ExecuteTime": {
     "end_time": "2024-06-25T22:56:03.973230Z",
     "start_time": "2024-06-25T22:56:03.969692Z"
    }
   },
   "id": "12b6f9dd58fac1ae"
  },
  {
   "cell_type": "code",
   "execution_count": 3,
   "outputs": [
    {
     "name": "stdout",
     "output_type": "stream",
     "text": [
      "/Users/johnschroter/miniforge3/lib/python3.10/site-packages/transformers/models/gpt2/tokenization_gpt2.py\n",
      "/Users/johnschroter/miniforge3/lib/python3.10/site-packages/transformers/models/gpt2/modeling_gpt2.py\n"
     ]
    }
   ],
   "source": [
    "# Import your modified GPT2 classes\n",
    "from transformers.models.gpt2.tokenization_gpt2 import *\n",
    "from transformers.models.gpt2.modeling_gpt2 import *\n",
    "\n",
    "# Verify that the modules are being loaded from the correct path\n",
    "import transformers.models.gpt2.tokenization_gpt2\n",
    "import transformers.models.gpt2.modeling_gpt2\n",
    "\n",
    "print(transformers.models.gpt2.tokenization_gpt2.__file__)  # Should point to your local file\n",
    "print(transformers.models.gpt2.modeling_gpt2.__file__)  # Should point to your local file"
   ],
   "metadata": {
    "collapsed": false,
    "ExecuteTime": {
     "end_time": "2024-06-25T22:56:05.831899Z",
     "start_time": "2024-06-25T22:56:04.882025Z"
    }
   },
   "id": "cc37c95c07bd9ea3"
  },
  {
   "cell_type": "code",
   "execution_count": null,
   "outputs": [],
   "source": [
    "# Initialize the tokenizer and configuration\n",
    "tokenizer = GPT2Tokenizer.from_pretrained('gpt2')\n",
    "config = GPT2Config.from_pretrained('gpt2')\n",
    "\n",
    "# Initialize the custom model\n",
    "model = CustomGPT2LMHeadModel.from_pretrained('gpt2')"
   ],
   "metadata": {
    "collapsed": false
   },
   "id": "31fb9f2fa84738bf"
  },
  {
   "cell_type": "code",
   "execution_count": null,
   "outputs": [],
   "source": [
    "\n",
    "# Example input\n",
    "input_text = \"The quick brown fox jumps over the lazy\"\n",
    "input_ids = tokenizer.encode(input_text, return_tensors='pt')\n",
    "\n",
    "# Generate shuffled order\n",
    "shuffle_indices = torch.randperm(input_ids.size(1))\n",
    "shuffled_input_ids = input_ids[:, shuffle_indices]\n",
    "\n",
    "# Generate positional encodings\n",
    "pos_ids = torch.arange(input_ids.size(1)).unsqueeze(0)\n",
    "shuffled_pos_ids = pos_ids[:, shuffle_indices]\n",
    "# Generate the next_pos_ids by rolling the shuffle indices\n",
    "next_pos_ids = torch.roll(shuffle_indices, shifts=-1, dims=0).unsqueeze(0)\n",
    "\n",
    "# Forward pass to get the output logits\n",
    "outputs = model(input_ids=shuffled_input_ids, position_ids=shuffled_pos_ids, next_position_ids=next_pos_ids)\n",
    "\n",
    "# Get the logits and convert to token IDs\n",
    "logits = outputs.logits\n",
    "predicted_token_ids = torch.argmax(logits, dim=-1)\n",
    "\n",
    "# Undo the shuffle before decoding\n",
    "_, unshuffle_indices = torch.sort(shuffle_indices)\n",
    "unshuffled_predicted_token_ids = predicted_token_ids[:, unshuffle_indices]\n",
    "\n",
    "# Decode the token IDs to get the output words\n",
    "predicted_text = tokenizer.decode(unshuffled_predicted_token_ids[0])\n",
    "\n",
    "print(\"Input Text: \", input_text)\n",
    "print(\"Predicted Response: \", predicted_text)"
   ],
   "metadata": {
    "collapsed": false
   },
   "id": "580f2762c623923d"
  },
  {
   "cell_type": "code",
   "execution_count": null,
   "outputs": [],
   "source": [
    "import torch\n",
    "from transformers import GPT2Tokenizer, GPT2Config, AdamW, get_scheduler\n",
    "from torch.nn.utils.rnn import pad_sequence\n",
    "from torch.nn import CrossEntropyLoss\n",
    "from typing import Optional, Tuple, Union\n",
    "\n",
    "# Custom Model Classes (Assume already provided)\n",
    "# - DoublePositionalGPT2Embeddings\n",
    "# - CustomGPT2Model\n",
    "# - CustomGPT2LMHeadModel\n",
    "\n",
    "# Initialize the tokenizer and configuration\n",
    "tokenizer = GPT2Tokenizer.from_pretrained('gpt2')\n",
    "config = GPT2Config.from_pretrained('gpt2')\n",
    "\n",
    "# Set pad token if it's not already set\n",
    "if tokenizer.pad_token is None:\n",
    "    tokenizer.add_special_tokens({'pad_token': '[PAD]'})\n",
    "\n",
    "# Initialize the custom model\n",
    "model = CustomGPT2LMHeadModel.from_pretrained('gpt2')\n",
    "model.resize_token_embeddings(len(tokenizer))  # Resize embeddings if the tokenizer size has changed\n",
    "\n",
    "# Placeholder for training data, replace this with your actual data\n",
    "training_data = [\n",
    "    \"The quick brown fox jumps over the lazy dog.\",\n",
    "    \"In the heart of the bustling city, a lone musician played a haunting melody.\",\n",
    "    \"Artificial intelligence is transforming industries across the globe.\",\n",
    "    \"The sun set over the horizon, painting the sky in shades of pink and orange.\",\n",
    "    \"A mysterious figure emerged from the shadows, cloaked in darkness.\",\n",
    "    \"With every passing year, technology advances at an unprecedented rate.\",\n",
    "    \"The ancient ruins stood as a testament to a long-forgotten civilization.\",\n",
    "    \"She whispered secrets to the wind, hoping they would reach the stars.\",\n",
    "    \"The scientist carefully documented the results of the groundbreaking experiment.\",\n",
    "    \"In the stillness of the night, the only sound was the distant howl of a wolf.\",\n",
    "    \"The library was a haven for those who sought knowledge and solace.\",\n",
    "    \"He crafted intricate sculptures from blocks of ice, each one a fleeting masterpiece.\",\n",
    "    \"Beneath the waves, a vibrant coral reef teemed with marine life.\",\n",
    "    \"Her laughter was like music, bringing joy to everyone around her.\",\n",
    "    \"The adventurer braved the treacherous mountains in search of hidden treasures.\",\n",
    "    \"In the garden, flowers of every color bloomed in a riotous display.\",\n",
    "    \"The clock struck midnight, marking the beginning of a new year.\",\n",
    "    \"He opened the ancient book, its pages filled with arcane symbols.\",\n",
    "    \"The spaceship soared through the cosmos, exploring uncharted territories.\",\n",
    "    \"She penned letters to her future self, filled with hopes and dreams.\",\n",
    "    \"The chef prepared a feast, each dish more delectable than the last.\",\n",
    "    \"In the forest, the trees whispered ancient secrets to those who would listen.\",\n",
    "    \"The artist painted a masterpiece, capturing the essence of a fleeting moment.\",\n",
    "    \"The storm raged on, lightning illuminating the darkened sky.\",\n",
    "    \"The detective pieced together the clues, unraveling the mystery bit by bit.\"\n",
    "]\n",
    "\n",
    "# Hyperparameters\n",
    "epochs = 1000\n",
    "batch_size = 8  # Adjust batch size as needed\n",
    "learning_rate = 3e-3\n",
    "\n",
    "# Optimizer and scheduler\n",
    "optimizer = AdamW(model.parameters(), lr=learning_rate)\n",
    "scheduler = get_scheduler(\"linear\", optimizer=optimizer, num_warmup_steps=0, num_training_steps=epochs * len(training_data) // batch_size)\n",
    "\n",
    "# Loss function\n",
    "loss_fn = CrossEntropyLoss()\n",
    "\n",
    "# Convert training data to input IDs\n",
    "training_input_ids = [torch.tensor(tokenizer.encode(text), dtype=torch.long) for text in training_data]\n",
    "\n",
    "def collate_fn(batch):\n",
    "    # Pad the sequences in the batch to the length of the longest sequence\n",
    "    batch_input_ids = pad_sequence(batch, batch_first=True, padding_value=tokenizer.pad_token_id)\n",
    "\n",
    "    # Generate attention mask (1 for tokens, 0 for padding)\n",
    "    attention_mask = (batch_input_ids != tokenizer.pad_token_id).long()\n",
    "\n",
    "    return batch_input_ids, attention_mask\n",
    "\n",
    "# Training loop\n",
    "for epoch in range(epochs):\n",
    "    model.train()\n",
    "    total_loss = 0\n",
    "\n",
    "    for batch_idx in range(0, len(training_input_ids), batch_size):\n",
    "        batch = training_input_ids[batch_idx:batch_idx+batch_size]\n",
    "        batch_input_ids, attention_mask = collate_fn(batch)\n",
    "\n",
    "        # Shuffle sequences\n",
    "        shuffle_indices = torch.randperm(batch_input_ids.size(1))\n",
    "        shuffled_input_ids = batch_input_ids[:, shuffle_indices]\n",
    "\n",
    "        # Generate positional encodings\n",
    "        pos_ids = torch.arange(batch_input_ids.size(1), dtype=torch.long, device=batch_input_ids.device).unsqueeze(0).repeat(batch_input_ids.size(0), 1)\n",
    "        shuffled_pos_ids = pos_ids[:, shuffle_indices]\n",
    "\n",
    "        # Generate next position IDs\n",
    "        next_pos_ids = torch.zeros_like(shuffled_pos_ids)\n",
    "        for i in range(next_pos_ids.size(1)):\n",
    "            next_pos_ids[:, i] = shuffled_pos_ids[:, (i + 1) % shuffled_pos_ids.size(1)]\n",
    "\n",
    "        # Forward pass\n",
    "        optimizer.zero_grad()\n",
    "        outputs = model(input_ids=shuffled_input_ids, attention_mask=attention_mask, position_ids=shuffled_pos_ids, next_position_ids=next_pos_ids)\n",
    "        logits = outputs.logits\n",
    "\n",
    "        # Compute loss\n",
    "        loss = loss_fn(logits.view(-1, logits.size(-1)), batch_input_ids.view(-1))\n",
    "        loss.backward()\n",
    "        optimizer.step()\n",
    "        scheduler.step()\n",
    "\n",
    "        total_loss += loss.item()\n",
    "\n",
    "        if batch_idx % (batch_size * 10) == 0:\n",
    "            print(f\"Epoch {epoch + 1}, Batch {batch_idx}, Loss: {loss.item()}\")\n",
    "\n",
    "    avg_loss = total_loss / len(training_input_ids)\n",
    "    print(f\"Epoch {epoch + 1}, Average Loss: {avg_loss}\")\n",
    "\n",
    "print(\"Training complete\")\n"
   ],
   "metadata": {
    "collapsed": false
   },
   "id": "a36c4b01533d5fb3"
  },
  {
   "cell_type": "code",
   "execution_count": null,
   "outputs": [],
   "source": [
    "model.save_pretrained('../notebooks/saved_models/')\n",
    "tokenizer.save_pretrained('../notebooks/saved_tokenizer/')\n"
   ],
   "metadata": {
    "collapsed": false
   },
   "id": "1e33a99423464d53"
  }
 ],
 "metadata": {
  "kernelspec": {
   "display_name": "Python 3",
   "language": "python",
   "name": "python3"
  },
  "language_info": {
   "codemirror_mode": {
    "name": "ipython",
    "version": 2
   },
   "file_extension": ".py",
   "mimetype": "text/x-python",
   "name": "python",
   "nbconvert_exporter": "python",
   "pygments_lexer": "ipython2",
   "version": "2.7.6"
  }
 },
 "nbformat": 4,
 "nbformat_minor": 5
}
