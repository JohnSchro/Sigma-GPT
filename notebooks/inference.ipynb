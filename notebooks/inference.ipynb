{
 "cells": [
  {
   "cell_type": "code",
   "execution_count": 1,
   "id": "initial_id",
   "metadata": {
    "collapsed": true,
    "ExecuteTime": {
     "end_time": "2024-06-26T15:43:50.097753Z",
     "start_time": "2024-06-26T15:43:50.095442Z"
    }
   },
   "outputs": [],
   "source": [
    "#!pip install transformers -U"
   ]
  },
  {
   "cell_type": "code",
   "execution_count": 2,
   "outputs": [
    {
     "name": "stdout",
     "output_type": "stream",
     "text": [
      "Adding path: /Users/johnschroter/IdeaProjects/Sigma-GPT/src\n"
     ]
    }
   ],
   "source": [
    "import sys\n",
    "import os\n",
    "\n",
    "# Add the correct path to the local transformers directory\n",
    "local_path = os.path.abspath('../src/')\n",
    "print(\"Adding path:\", local_path)  # Verify the path to be added\n",
    "sys.path.insert(0, local_path)"
   ],
   "metadata": {
    "collapsed": false,
    "ExecuteTime": {
     "end_time": "2024-06-26T15:43:50.105768Z",
     "start_time": "2024-06-26T15:43:50.101231Z"
    }
   },
   "id": "12b6f9dd58fac1ae"
  },
  {
   "cell_type": "code",
   "execution_count": 3,
   "outputs": [
    {
     "name": "stdout",
     "output_type": "stream",
     "text": [
      "/Users/johnschroter/IdeaProjects/Sigma-GPT/src/transformers/models/gpt2/tokenization_gpt2.py\n",
      "/Users/johnschroter/IdeaProjects/Sigma-GPT/src/transformers/models/gpt2/modeling_gpt2.py\n"
     ]
    }
   ],
   "source": [
    "# Import your modified GPT2 classes\n",
    "from transformers.models.gpt2.tokenization_gpt2 import *\n",
    "from transformers.models.gpt2.modeling_gpt2 import *\n",
    "\n",
    "# Verify that the modules are being loaded from the correct path\n",
    "import transformers.models.gpt2.tokenization_gpt2\n",
    "import transformers.models.gpt2.modeling_gpt2\n",
    "\n",
    "print(transformers.models.gpt2.tokenization_gpt2.__file__)  # Should point to your local file\n",
    "print(transformers.models.gpt2.modeling_gpt2.__file__)  # Should point to your local file"
   ],
   "metadata": {
    "collapsed": false,
    "ExecuteTime": {
     "end_time": "2024-06-26T15:43:51.165251Z",
     "start_time": "2024-06-26T15:43:50.104214Z"
    }
   },
   "id": "cc37c95c07bd9ea3"
  },
  {
   "cell_type": "code",
   "execution_count": 4,
   "outputs": [
    {
     "name": "stderr",
     "output_type": "stream",
     "text": [
      "Some weights of CustomGPT2LMHeadModel were not initialized from the model checkpoint at gpt2 and are newly initialized: ['lm_head.weight', 'wte.LayerNorm.bias', 'wte.LayerNorm.weight', 'wte.next_position_embeddings.weight', 'wte.position_embeddings.weight', 'wte.word_embeddings.weight']\n",
      "You should probably TRAIN this model on a down-stream task to be able to use it for predictions and inference.\n"
     ]
    }
   ],
   "source": [
    "# Initialize the tokenizer and configuration\n",
    "tokenizer = GPT2Tokenizer.from_pretrained('gpt2')\n",
    "config = GPT2Config.from_pretrained('gpt2')\n",
    "\n",
    "# Initialize the custom model\n",
    "model = CustomGPT2LMHeadModel.from_pretrained('gpt2')"
   ],
   "metadata": {
    "collapsed": false,
    "ExecuteTime": {
     "end_time": "2024-06-26T15:43:54.996894Z",
     "start_time": "2024-06-26T15:43:51.163104Z"
    }
   },
   "id": "31fb9f2fa84738bf"
  },
  {
   "cell_type": "code",
   "execution_count": 5,
   "outputs": [
    {
     "name": "stdout",
     "output_type": "stream",
     "text": [
      "Input Text:  Really?\n",
      "Predicted Response:  ARPARP\n"
     ]
    }
   ],
   "source": [
    "\n",
    "# Example input\n",
    "input_text = \"Really?\"\n",
    "input_ids = tokenizer.encode(input_text, return_tensors='pt')\n",
    "\n",
    "# Generate shuffled order\n",
    "shuffle_indices = torch.randperm(input_ids.size(1))\n",
    "#shuffle_indices = torch.arange(input_ids.size(1))\n",
    "shuffled_input_ids = input_ids[:, shuffle_indices]\n",
    "\n",
    "# Generate positional encodings\n",
    "pos_ids = torch.arange(input_ids.size(1)).unsqueeze(0)\n",
    "shuffled_pos_ids = pos_ids[:, shuffle_indices]\n",
    "# Generate the next_pos_ids by rolling the shuffle indices\n",
    "next_pos_ids = torch.roll(shuffle_indices, shifts=-1, dims=0).unsqueeze(0)\n",
    "\n",
    "# Forward pass to get the output logits\n",
    "outputs = model(input_ids=shuffled_input_ids, position_ids=shuffled_pos_ids, next_position_ids=next_pos_ids)\n",
    "\n",
    "# Get the logits and convert to token IDs\n",
    "logits = outputs.logits\n",
    "predicted_token_ids = torch.argmax(logits, dim=-1)\n",
    "\n",
    "# Undo the shuffle before decoding\n",
    "_, unshuffle_indices = torch.sort(shuffle_indices)\n",
    "unshuffled_predicted_token_ids = predicted_token_ids[:, unshuffle_indices]\n",
    "\n",
    "# Decode the token IDs to get the output words\n",
    "predicted_text = tokenizer.decode(unshuffled_predicted_token_ids[0])\n",
    "\n",
    "print(\"Input Text: \", input_text)\n",
    "print(\"Predicted Response: \", predicted_text)"
   ],
   "metadata": {
    "collapsed": false,
    "ExecuteTime": {
     "end_time": "2024-06-26T15:43:55.055291Z",
     "start_time": "2024-06-26T15:43:54.999309Z"
    }
   },
   "id": "580f2762c623923d"
  },
  {
   "cell_type": "code",
   "execution_count": 6,
   "outputs": [
    {
     "name": "stderr",
     "output_type": "stream",
     "text": [
      "Some weights of CustomGPT2LMHeadModel were not initialized from the model checkpoint at gpt2 and are newly initialized: ['lm_head.weight', 'wte.LayerNorm.bias', 'wte.LayerNorm.weight', 'wte.next_position_embeddings.weight', 'wte.position_embeddings.weight', 'wte.word_embeddings.weight']\n",
      "You should probably TRAIN this model on a down-stream task to be able to use it for predictions and inference.\n"
     ]
    }
   ],
   "source": [
    "import torch\n",
    "from transformers import GPT2Tokenizer, GPT2Config, AdamW, get_scheduler\n",
    "from torch.nn.utils.rnn import pad_sequence\n",
    "from torch.nn import CrossEntropyLoss\n",
    "from typing import Optional, Tuple, Union\n",
    "\n",
    "# Initialize the tokenizer and configuration\n",
    "tokenizer = GPT2Tokenizer.from_pretrained('gpt2')\n",
    "config = GPT2Config.from_pretrained('gpt2', output_attentions=True)\n",
    "\n",
    "# Set pad token if it's not already set\n",
    "if tokenizer.pad_token is None:\n",
    "    tokenizer.add_special_tokens({'pad_token': '[PAD]'})\n",
    "\n",
    "# Add BOS and EOS tokens if not present\n",
    "if tokenizer.bos_token is None:\n",
    "    tokenizer.add_special_tokens({'bos_token': '<|startoftext|>'})\n",
    "if tokenizer.eos_token is None:\n",
    "    tokenizer.add_special_tokens({'eos_token': '<|endoftext|>'})\n",
    "\n",
    "# Initialize the custom model\n",
    "model = CustomGPT2LMHeadModel.from_pretrained('gpt2')\n",
    "model.resize_token_embeddings(len(tokenizer))  # Resize embeddings if the tokenizer size has changed\n",
    "\n",
    "# Placeholder for training data, replace this with your actual data\n",
    "training_data = [\n",
    "    \"The quick brown fox jumps over the lazy dog.\",\n",
    "    \"In the heart of the bustling city, a lone musician played a haunting melody.\",\n",
    "    \"Artificial intelligence is transforming industries across the globe.\",\n",
    "    \"The sun set over the horizon, painting the sky in shades of pink and orange.\",\n",
    "    \"A mysterious figure emerged from the shadows, cloaked in darkness.\",\n",
    "    \"With every passing year, technology advances at an unprecedented rate.\",\n",
    "    \"The ancient ruins stood as a testament to a long-forgotten civilization.\",\n",
    "    \"She whispered secrets to the wind, hoping they would reach the stars.\",\n",
    "    \"The scientist carefully documented the results of the groundbreaking experiment.\",\n",
    "    \"In the stillness of the night, the only sound was the distant howl of a wolf.\",\n",
    "    \"The library was a haven for those who sought knowledge and solace.\",\n",
    "    \"He crafted intricate sculptures from blocks of ice, each one a fleeting masterpiece.\",\n",
    "    \"Beneath the waves, a vibrant coral reef teemed with marine life.\",\n",
    "    \"Her laughter was like music, bringing joy to everyone around her.\",\n",
    "    \"The adventurer braved the treacherous mountains in search of hidden treasures.\",\n",
    "    \"In the garden, flowers of every color bloomed in a riotous display.\",\n",
    "    \"The clock struck midnight, marking the beginning of a new year.\",\n",
    "    \"He opened the ancient book, its pages filled with arcane symbols.\",\n",
    "    \"The spaceship soared through the cosmos, exploring uncharted territories.\",\n",
    "    \"She penned letters to her future self, filled with hopes and dreams.\",\n",
    "    \"The chef prepared a feast, each dish more delectable than the last.\",\n",
    "    \"In the forest, the trees whispered ancient secrets to those who would listen.\",\n",
    "    \"The artist painted a masterpiece, capturing the essence of a fleeting moment.\",\n",
    "    \"The storm raged on, lightning illuminating the darkened sky.\",\n",
    "    \"The detective pieced together the clues, unraveling the mystery bit by bit.\"\n",
    "]"
   ],
   "metadata": {
    "collapsed": false,
    "ExecuteTime": {
     "end_time": "2024-06-26T15:43:57.062751Z",
     "start_time": "2024-06-26T15:43:55.055470Z"
    }
   },
   "id": "d94cbf7270e85644"
  },
  {
   "cell_type": "code",
   "execution_count": 7,
   "outputs": [
    {
     "name": "stderr",
     "output_type": "stream",
     "text": [
      "/Users/johnschroter/IdeaProjects/Sigma-GPT/src/transformers/optimization.py:591: FutureWarning: This implementation of AdamW is deprecated and will be removed in a future version. Use the PyTorch implementation torch.optim.AdamW instead, or set `no_deprecation_warning=True` to disable this warning\n",
      "  warnings.warn(\n"
     ]
    },
    {
     "name": "stdout",
     "output_type": "stream",
     "text": [
      "Epoch 1, Batch 0, Loss: 14.037601470947266\n",
      "Epoch 1, Average Loss: 0.5615040588378907\n",
      "Epoch 2, Batch 0, Loss: 14.136634826660156\n",
      "Epoch 2, Average Loss: 0.5654653930664062\n",
      "Epoch 3, Batch 0, Loss: 12.169601440429688\n",
      "Epoch 3, Average Loss: 0.4867840576171875\n",
      "Epoch 4, Batch 0, Loss: 8.8080415725708\n",
      "Epoch 4, Average Loss: 0.352321662902832\n",
      "Epoch 5, Batch 0, Loss: 6.883347988128662\n",
      "Epoch 5, Average Loss: 0.27533391952514646\n",
      "Epoch 6, Batch 0, Loss: 5.006617546081543\n",
      "Epoch 6, Average Loss: 0.20026470184326173\n",
      "Epoch 7, Batch 0, Loss: 4.449709892272949\n",
      "Epoch 7, Average Loss: 0.17798839569091796\n",
      "Epoch 8, Batch 0, Loss: 4.101011753082275\n",
      "Epoch 8, Average Loss: 0.164040470123291\n",
      "Epoch 9, Batch 0, Loss: 4.132153034210205\n",
      "Epoch 9, Average Loss: 0.1652861213684082\n",
      "Epoch 10, Batch 0, Loss: 4.262696743011475\n",
      "Epoch 10, Average Loss: 0.17050786972045898\n",
      "Epoch 11, Batch 0, Loss: 4.139480113983154\n",
      "Epoch 11, Average Loss: 0.16557920455932618\n",
      "Epoch 12, Batch 0, Loss: 4.019416809082031\n",
      "Epoch 12, Average Loss: 0.16077667236328125\n",
      "Epoch 13, Batch 0, Loss: 4.058218479156494\n",
      "Epoch 13, Average Loss: 0.16232873916625976\n",
      "Epoch 14, Batch 0, Loss: 4.110081672668457\n",
      "Epoch 14, Average Loss: 0.1644032669067383\n",
      "Epoch 15, Batch 0, Loss: 4.03947114944458\n",
      "Epoch 15, Average Loss: 0.16157884597778321\n",
      "Epoch 16, Batch 0, Loss: 3.9949862957000732\n",
      "Epoch 16, Average Loss: 0.15979945182800293\n",
      "Epoch 17, Batch 0, Loss: 3.971853017807007\n",
      "Epoch 17, Average Loss: 0.15887412071228027\n",
      "Epoch 18, Batch 0, Loss: 3.9633712768554688\n",
      "Epoch 18, Average Loss: 0.15853485107421875\n",
      "Epoch 19, Batch 0, Loss: 3.984933376312256\n",
      "Epoch 19, Average Loss: 0.15939733505249024\n"
     ]
    },
    {
     "name": "stderr",
     "output_type": "stream",
     "text": [
      "[E thread_pool.cpp:113] Exception in thread pool task: mutex lock failed: Invalid argument\n",
      "\n",
      "KeyboardInterrupt\n",
      "\n"
     ]
    }
   ],
   "source": [
    "\n",
    "# Hyperparameters\n",
    "epochs = 1000\n",
    "batch_size = 25  # Adjust batch size as needed\n",
    "learning_rate = 3e-3\n",
    "\n",
    "# Optimizer and scheduler\n",
    "optimizer = AdamW(model.parameters(), lr=learning_rate)\n",
    "scheduler = get_scheduler(\"linear\", optimizer=optimizer, num_warmup_steps=0, num_training_steps=epochs * len(training_data) // batch_size)\n",
    "\n",
    "# Loss function\n",
    "loss_fn = CrossEntropyLoss()\n",
    "\n",
    "# Convert training data to input IDs\n",
    "training_input_ids = [torch.tensor(tokenizer.encode(f\"{tokenizer.bos_token} {text} {tokenizer.eos_token}\"), dtype=torch.long) for text in training_data]\n",
    "\n",
    "def collate_fn(batch):\n",
    "    # Pad the sequences in the batch to the length of the longest sequence\n",
    "    batch_input_ids = pad_sequence(batch, batch_first=True, padding_value=tokenizer.pad_token_id)\n",
    "\n",
    "    # Generate attention mask (1 for tokens, 0 for padding)\n",
    "    attention_mask = (batch_input_ids != tokenizer.pad_token_id).long()\n",
    "\n",
    "    return batch_input_ids, attention_mask\n",
    "\n",
    "# Training loop\n",
    "for epoch in range(epochs):\n",
    "    model.train()\n",
    "    total_loss = 0\n",
    "\n",
    "    for batch_idx in range(0, len(training_input_ids), batch_size):\n",
    "        batch = training_input_ids[batch_idx:batch_idx+batch_size]\n",
    "        batch_input_ids, attention_mask = collate_fn(batch)\n",
    "\n",
    "        # Shuffle sequences\n",
    "        shuffle_indices = torch.randperm(batch_input_ids.size(1))\n",
    "        #shuffle_indices = torch.arange(batch_input_ids.size(1))\n",
    "        shuffled_input_ids = batch_input_ids[:, shuffle_indices]\n",
    "        \n",
    "        # Generate positional encodings\n",
    "        pos_ids = torch.arange(batch_input_ids.size(1), dtype=torch.long, device=batch_input_ids.device).unsqueeze(0).repeat(batch_input_ids.size(0), 1)\n",
    "        shuffled_pos_ids = pos_ids[:, shuffle_indices]\n",
    "\n",
    "        # Generate next position IDs\n",
    "        next_pos_ids = torch.zeros_like(shuffled_pos_ids)\n",
    "        for i in range(next_pos_ids.size(1)):\n",
    "            next_pos_ids[:, i] = shuffled_pos_ids[:, (i + 1) % shuffled_pos_ids.size(1)]\n",
    "        \n",
    "        # Forward pass\n",
    "        optimizer.zero_grad()\n",
    "        outputs = model(input_ids=shuffled_input_ids, position_ids=shuffled_pos_ids, next_position_ids=next_pos_ids, attention_mask=attention_mask)\n",
    "        logits = outputs.logits\n",
    "\n",
    "        # Compute loss\n",
    "        loss = loss_fn(logits.view(-1, logits.size(-1)), batch_input_ids.view(-1))\n",
    "        loss.backward()\n",
    "        optimizer.step()\n",
    "        scheduler.step()\n",
    "\n",
    "        total_loss += loss.item()\n",
    "\n",
    "        if batch_idx % (batch_size * 1) == 0:\n",
    "            print(f\"Epoch {epoch + 1}, Batch {batch_idx}, Loss: {loss.item()}\")\n",
    "\n",
    "    avg_loss = total_loss / len(training_input_ids)\n",
    "    print(f\"Epoch {epoch + 1}, Average Loss: {avg_loss}\")\n",
    "\n",
    "print(\"Training complete\")\n"
   ],
   "metadata": {
    "collapsed": false,
    "ExecuteTime": {
     "end_time": "2024-06-26T15:44:13.827251Z",
     "start_time": "2024-06-26T15:43:57.066830Z"
    }
   },
   "id": "a36c4b01533d5fb3"
  },
  {
   "cell_type": "code",
   "execution_count": null,
   "outputs": [],
   "source": [
    "model.save_pretrained('../notebooks/saved_models/')\n",
    "tokenizer.save_pretrained('../notebooks/saved_tokenizer/')\n"
   ],
   "metadata": {
    "collapsed": false,
    "ExecuteTime": {
     "start_time": "2024-06-26T15:44:13.824598Z"
    }
   },
   "id": "1e33a99423464d53"
  },
  {
   "cell_type": "code",
   "execution_count": null,
   "outputs": [],
   "source": [
    "next_pos_ids"
   ],
   "metadata": {
    "collapsed": false,
    "ExecuteTime": {
     "start_time": "2024-06-26T15:44:13.825479Z"
    }
   },
   "id": "195f1e8fd69a4db0"
  },
  {
   "cell_type": "code",
   "execution_count": null,
   "outputs": [],
   "source": [
    "print(logits.view(-1, logits.size(-1)), batch_input_ids.view(-1))"
   ],
   "metadata": {
    "collapsed": false,
    "ExecuteTime": {
     "start_time": "2024-06-26T15:44:13.826750Z"
    }
   },
   "id": "8a8d797467014619"
  },
  {
   "cell_type": "code",
   "execution_count": null,
   "outputs": [],
   "source": [
    "logits.view(-1, logits.size(-1))"
   ],
   "metadata": {
    "collapsed": false,
    "ExecuteTime": {
     "end_time": "2024-06-26T15:44:13.828630Z",
     "start_time": "2024-06-26T15:44:13.828187Z"
    }
   },
   "id": "a6b134475b9e8e91"
  },
  {
   "cell_type": "code",
   "execution_count": null,
   "outputs": [],
   "source": [],
   "metadata": {
    "collapsed": false,
    "ExecuteTime": {
     "start_time": "2024-06-26T15:44:13.829087Z"
    }
   },
   "id": "e5db7926b1a3c34a"
  }
 ],
 "metadata": {
  "kernelspec": {
   "display_name": "Python 3",
   "language": "python",
   "name": "python3"
  },
  "language_info": {
   "codemirror_mode": {
    "name": "ipython",
    "version": 2
   },
   "file_extension": ".py",
   "mimetype": "text/x-python",
   "name": "python",
   "nbconvert_exporter": "python",
   "pygments_lexer": "ipython2",
   "version": "2.7.6"
  }
 },
 "nbformat": 4,
 "nbformat_minor": 5
}
