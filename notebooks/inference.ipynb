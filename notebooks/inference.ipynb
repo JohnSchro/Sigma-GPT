{
 "cells": [
  {
   "cell_type": "code",
   "execution_count": 1,
   "id": "initial_id",
   "metadata": {
    "collapsed": true,
    "ExecuteTime": {
     "end_time": "2024-06-26T16:01:31.875069Z",
     "start_time": "2024-06-26T16:01:31.873205Z"
    }
   },
   "outputs": [],
   "source": [
    "#!pip install transformers -U"
   ]
  },
  {
   "cell_type": "code",
   "execution_count": 1,
   "outputs": [
    {
     "name": "stdout",
     "output_type": "stream",
     "text": [
      "Adding path: /Users/johnschroter/IdeaProjects/Sigma-GPT/src\n"
     ]
    }
   ],
   "source": [
    "import sys\n",
    "import os\n",
    "\n",
    "# Add the correct path to the local transformers directory\n",
    "local_path = os.path.abspath('../src/')\n",
    "print(\"Adding path:\", local_path)  # Verify the path to be added\n",
    "sys.path.insert(0, local_path)"
   ],
   "metadata": {
    "collapsed": false,
    "ExecuteTime": {
     "end_time": "2024-06-26T16:04:01.047762Z",
     "start_time": "2024-06-26T16:04:01.043525Z"
    }
   },
   "id": "12b6f9dd58fac1ae"
  },
  {
   "cell_type": "code",
   "execution_count": 2,
   "outputs": [
    {
     "name": "stdout",
     "output_type": "stream",
     "text": [
      "/Users/johnschroter/IdeaProjects/Sigma-GPT/src/transformers/models/gpt2/tokenization_gpt2.py\n",
      "/Users/johnschroter/IdeaProjects/Sigma-GPT/src/transformers/models/gpt2/modeling_gpt2.py\n"
     ]
    }
   ],
   "source": [
    "# Import your modified GPT2 classes\n",
    "from transformers.models.gpt2.tokenization_gpt2 import *\n",
    "from transformers.models.gpt2.modeling_gpt2 import *\n",
    "\n",
    "# Verify that the modules are being loaded from the correct path\n",
    "import transformers.models.gpt2.tokenization_gpt2\n",
    "import transformers.models.gpt2.modeling_gpt2\n",
    "\n",
    "print(transformers.models.gpt2.tokenization_gpt2.__file__)  # Should point to your local file\n",
    "print(transformers.models.gpt2.modeling_gpt2.__file__)  # Should point to your local file"
   ],
   "metadata": {
    "collapsed": false,
    "ExecuteTime": {
     "end_time": "2024-06-26T16:04:02.639193Z",
     "start_time": "2024-06-26T16:04:01.812374Z"
    }
   },
   "id": "cc37c95c07bd9ea3"
  },
  {
   "cell_type": "code",
   "execution_count": 3,
   "outputs": [
    {
     "name": "stderr",
     "output_type": "stream",
     "text": [
      "Some weights of CustomGPT2LMHeadModel were not initialized from the model checkpoint at gpt2 and are newly initialized: ['lm_head.weight', 'wte.LayerNorm.bias', 'wte.LayerNorm.weight', 'wte.next_position_embeddings.weight', 'wte.position_embeddings.weight', 'wte.word_embeddings.weight']\n",
      "You should probably TRAIN this model on a down-stream task to be able to use it for predictions and inference.\n"
     ]
    }
   ],
   "source": [
    "# Initialize the tokenizer and configuration\n",
    "tokenizer = GPT2Tokenizer.from_pretrained('gpt2')\n",
    "config = GPT2Config.from_pretrained('gpt2')\n",
    "\n",
    "# Initialize the custom model\n",
    "model = CustomGPT2LMHeadModel.from_pretrained('gpt2')"
   ],
   "metadata": {
    "collapsed": false,
    "ExecuteTime": {
     "end_time": "2024-06-26T16:04:07.996160Z",
     "start_time": "2024-06-26T16:04:06.645938Z"
    }
   },
   "id": "31fb9f2fa84738bf"
  },
  {
   "cell_type": "code",
   "execution_count": 7,
   "outputs": [
    {
     "name": "stdout",
     "output_type": "stream",
     "text": [
      "Input Text:  The quick brown fox jumps\n",
      "Predicted Response:   The,. The the\n"
     ]
    }
   ],
   "source": [
    "tokenizer = GPT2Tokenizer.from_pretrained('gpt2')\n",
    "# Example input\n",
    "input_text = (\"The quick brown fox jumps\")\n",
    "input_ids = tokenizer.encode(input_text, return_tensors='pt')\n",
    "\n",
    "# Generate shuffled order\n",
    "shuffle_indices = torch.randperm(input_ids.size(1))\n",
    "#shuffle_indices = torch.arange(input_ids.size(1))\n",
    "shuffled_input_ids = input_ids[:, shuffle_indices]\n",
    "\n",
    "# Generate positional encodings\n",
    "pos_ids = torch.arange(input_ids.size(1)).unsqueeze(0)\n",
    "shuffled_pos_ids = pos_ids[:, shuffle_indices]\n",
    "# Generate the next_pos_ids by rolling the shuffle indices\n",
    "next_pos_ids = torch.roll(shuffle_indices, shifts=-1, dims=0).unsqueeze(0)\n",
    "\n",
    "# Forward pass to get the output logits\n",
    "outputs = model(input_ids=shuffled_input_ids, position_ids=shuffled_pos_ids, next_position_ids=next_pos_ids)\n",
    "\n",
    "# Get the logits and convert to token IDs\n",
    "logits = outputs.logits\n",
    "predicted_token_ids = torch.argmax(logits, dim=-1)\n",
    "\n",
    "# Undo the shuffle before decoding\n",
    "_, unshuffle_indices = torch.sort(shuffle_indices)\n",
    "unshuffled_predicted_token_ids = predicted_token_ids[:, unshuffle_indices]\n",
    "\n",
    "# Decode the token IDs to get the output words\n",
    "predicted_text = tokenizer.decode(unshuffled_predicted_token_ids[0], skip_special_tokens=True)\n",
    "\n",
    "print(\"Input Text: \", input_text)\n",
    "print(\"Predicted Response: \", predicted_text)"
   ],
   "metadata": {
    "collapsed": false,
    "ExecuteTime": {
     "end_time": "2024-06-26T16:04:40.195930Z",
     "start_time": "2024-06-26T16:04:39.907345Z"
    }
   },
   "id": "580f2762c623923d"
  },
  {
   "cell_type": "code",
   "execution_count": 5,
   "outputs": [
    {
     "name": "stderr",
     "output_type": "stream",
     "text": [
      "Some weights of CustomGPT2LMHeadModel were not initialized from the model checkpoint at gpt2 and are newly initialized: ['lm_head.weight', 'wte.LayerNorm.bias', 'wte.LayerNorm.weight', 'wte.next_position_embeddings.weight', 'wte.position_embeddings.weight', 'wte.word_embeddings.weight']\n",
      "You should probably TRAIN this model on a down-stream task to be able to use it for predictions and inference.\n"
     ]
    }
   ],
   "source": [
    "import torch\n",
    "from transformers import GPT2Tokenizer, GPT2Config, AdamW, get_scheduler\n",
    "from torch.nn.utils.rnn import pad_sequence\n",
    "from torch.nn import CrossEntropyLoss\n",
    "from typing import Optional, Tuple, Union\n",
    "\n",
    "# Initialize the tokenizer and configuration\n",
    "tokenizer = GPT2Tokenizer.from_pretrained('gpt2')\n",
    "config = GPT2Config.from_pretrained('gpt2', output_attentions=True)\n",
    "\n",
    "# Set pad token if it's not already set\n",
    "if tokenizer.pad_token is None:\n",
    "    tokenizer.add_special_tokens({'pad_token': '[PAD]'})\n",
    "\n",
    "# Add BOS and EOS tokens if not present\n",
    "if tokenizer.bos_token is None:\n",
    "    tokenizer.add_special_tokens({'bos_token': '<|startoftext|>'})\n",
    "if tokenizer.eos_token is None:\n",
    "    tokenizer.add_special_tokens({'eos_token': '<|endoftext|>'})\n",
    "\n",
    "# Initialize the custom model\n",
    "model = CustomGPT2LMHeadModel.from_pretrained('gpt2')\n",
    "model.resize_token_embeddings(len(tokenizer))  # Resize embeddings if the tokenizer size has changed\n",
    "\n",
    "# Placeholder for training data, replace this with your actual data\n",
    "training_data = [\n",
    "    \"The quick brown fox jumps over the lazy dog.\",\n",
    "    \"In the heart of the bustling city, a lone musician played a haunting melody.\",\n",
    "    \"Artificial intelligence is transforming industries across the globe.\",\n",
    "    \"The sun set over the horizon, painting the sky in shades of pink and orange.\",\n",
    "    \"A mysterious figure emerged from the shadows, cloaked in darkness.\",\n",
    "    \"With every passing year, technology advances at an unprecedented rate.\",\n",
    "    \"The ancient ruins stood as a testament to a long-forgotten civilization.\",\n",
    "    \"She whispered secrets to the wind, hoping they would reach the stars.\",\n",
    "    \"The scientist carefully documented the results of the groundbreaking experiment.\",\n",
    "    \"In the stillness of the night, the only sound was the distant howl of a wolf.\",\n",
    "    \"The library was a haven for those who sought knowledge and solace.\",\n",
    "    \"He crafted intricate sculptures from blocks of ice, each one a fleeting masterpiece.\",\n",
    "    \"Beneath the waves, a vibrant coral reef teemed with marine life.\",\n",
    "    \"Her laughter was like music, bringing joy to everyone around her.\",\n",
    "    \"The adventurer braved the treacherous mountains in search of hidden treasures.\",\n",
    "    \"In the garden, flowers of every color bloomed in a riotous display.\",\n",
    "    \"The clock struck midnight, marking the beginning of a new year.\",\n",
    "    \"He opened the ancient book, its pages filled with arcane symbols.\",\n",
    "    \"The spaceship soared through the cosmos, exploring uncharted territories.\",\n",
    "    \"She penned letters to her future self, filled with hopes and dreams.\",\n",
    "    \"The chef prepared a feast, each dish more delectable than the last.\",\n",
    "    \"In the forest, the trees whispered ancient secrets to those who would listen.\",\n",
    "    \"The artist painted a masterpiece, capturing the essence of a fleeting moment.\",\n",
    "    \"The storm raged on, lightning illuminating the darkened sky.\",\n",
    "    \"The detective pieced together the clues, unraveling the mystery bit by bit.\"\n",
    "]"
   ],
   "metadata": {
    "collapsed": false,
    "ExecuteTime": {
     "end_time": "2024-06-26T16:04:17.270400Z",
     "start_time": "2024-06-26T16:04:15.347973Z"
    }
   },
   "id": "d94cbf7270e85644"
  },
  {
   "cell_type": "code",
   "execution_count": 8,
   "outputs": [
    {
     "ename": "TypeError",
     "evalue": "pad_sequence(): argument 'padding_value' (position 3) must be float, not NoneType",
     "output_type": "error",
     "traceback": [
      "\u001B[0;31m---------------------------------------------------------------------------\u001B[0m",
      "\u001B[0;31mTypeError\u001B[0m                                 Traceback (most recent call last)",
      "Cell \u001B[0;32mIn[8], line 40\u001B[0m\n\u001B[1;32m     38\u001B[0m \u001B[38;5;28;01mfor\u001B[39;00m batch_idx \u001B[38;5;129;01min\u001B[39;00m \u001B[38;5;28mrange\u001B[39m(\u001B[38;5;241m0\u001B[39m, \u001B[38;5;28mlen\u001B[39m(training_input_ids), batch_size):\n\u001B[1;32m     39\u001B[0m     batch \u001B[38;5;241m=\u001B[39m training_input_ids[batch_idx:batch_idx\u001B[38;5;241m+\u001B[39mbatch_size]\n\u001B[0;32m---> 40\u001B[0m     batch_input_ids, attention_mask \u001B[38;5;241m=\u001B[39m \u001B[43mcollate_fn\u001B[49m\u001B[43m(\u001B[49m\u001B[43mbatch\u001B[49m\u001B[43m)\u001B[49m\n\u001B[1;32m     42\u001B[0m     \u001B[38;5;66;03m# Shuffle sequences\u001B[39;00m\n\u001B[1;32m     43\u001B[0m     shuffle_indices \u001B[38;5;241m=\u001B[39m torch\u001B[38;5;241m.\u001B[39mrandperm(batch_input_ids\u001B[38;5;241m.\u001B[39msize(\u001B[38;5;241m1\u001B[39m))\n",
      "Cell \u001B[0;32mIn[8], line 20\u001B[0m, in \u001B[0;36mcollate_fn\u001B[0;34m(batch)\u001B[0m\n\u001B[1;32m     18\u001B[0m \u001B[38;5;28;01mdef\u001B[39;00m \u001B[38;5;21mcollate_fn\u001B[39m(batch):\n\u001B[1;32m     19\u001B[0m     \u001B[38;5;66;03m# Pad the sequences in the batch to the length of the longest sequence\u001B[39;00m\n\u001B[0;32m---> 20\u001B[0m     batch_input_ids \u001B[38;5;241m=\u001B[39m \u001B[43mpad_sequence\u001B[49m\u001B[43m(\u001B[49m\u001B[43mbatch\u001B[49m\u001B[43m,\u001B[49m\u001B[43m \u001B[49m\u001B[43mbatch_first\u001B[49m\u001B[38;5;241;43m=\u001B[39;49m\u001B[38;5;28;43;01mTrue\u001B[39;49;00m\u001B[43m,\u001B[49m\u001B[43m \u001B[49m\u001B[43mpadding_value\u001B[49m\u001B[38;5;241;43m=\u001B[39;49m\u001B[43mtokenizer\u001B[49m\u001B[38;5;241;43m.\u001B[39;49m\u001B[43mpad_token_id\u001B[49m\u001B[43m)\u001B[49m\n\u001B[1;32m     22\u001B[0m     \u001B[38;5;66;03m# Generate attention mask (1 for tokens, 0 for padding)\u001B[39;00m\n\u001B[1;32m     23\u001B[0m     attention_mask \u001B[38;5;241m=\u001B[39m (batch_input_ids \u001B[38;5;241m!=\u001B[39m tokenizer\u001B[38;5;241m.\u001B[39mpad_token_id)\u001B[38;5;241m.\u001B[39mlong()\n",
      "File \u001B[0;32m~/miniforge3/lib/python3.10/site-packages/torch/nn/utils/rnn.py:398\u001B[0m, in \u001B[0;36mpad_sequence\u001B[0;34m(sequences, batch_first, padding_value)\u001B[0m\n\u001B[1;32m    394\u001B[0m         sequences \u001B[38;5;241m=\u001B[39m sequences\u001B[38;5;241m.\u001B[39munbind(\u001B[38;5;241m0\u001B[39m)\n\u001B[1;32m    396\u001B[0m \u001B[38;5;66;03m# assuming trailing dimensions and type of all the Tensors\u001B[39;00m\n\u001B[1;32m    397\u001B[0m \u001B[38;5;66;03m# in sequences are same and fetching those from sequences[0]\u001B[39;00m\n\u001B[0;32m--> 398\u001B[0m \u001B[38;5;28;01mreturn\u001B[39;00m \u001B[43mtorch\u001B[49m\u001B[38;5;241;43m.\u001B[39;49m\u001B[43m_C\u001B[49m\u001B[38;5;241;43m.\u001B[39;49m\u001B[43m_nn\u001B[49m\u001B[38;5;241;43m.\u001B[39;49m\u001B[43mpad_sequence\u001B[49m\u001B[43m(\u001B[49m\u001B[43msequences\u001B[49m\u001B[43m,\u001B[49m\u001B[43m \u001B[49m\u001B[43mbatch_first\u001B[49m\u001B[43m,\u001B[49m\u001B[43m \u001B[49m\u001B[43mpadding_value\u001B[49m\u001B[43m)\u001B[49m\n",
      "\u001B[0;31mTypeError\u001B[0m: pad_sequence(): argument 'padding_value' (position 3) must be float, not NoneType"
     ]
    }
   ],
   "source": [
    "import random\n",
    "\n",
    "# Hyperparameters\n",
    "epochs = 1000\n",
    "batch_size = 5  # Adjust batch size as needed\n",
    "learning_rate = 5e-4\n",
    "\n",
    "# Optimizer and scheduler\n",
    "optimizer = AdamW(model.parameters(), lr=learning_rate)\n",
    "scheduler = get_scheduler(\"linear\", optimizer=optimizer, num_warmup_steps=0, num_training_steps=epochs * len(training_data) // batch_size)\n",
    "\n",
    "# Loss function\n",
    "loss_fn = CrossEntropyLoss(ignore_index=tokenizer.pad_token_id)\n",
    "\n",
    "# Convert training data to input IDs\n",
    "training_input_ids = [torch.tensor(tokenizer.encode(f\"{tokenizer.bos_token} {text} {tokenizer.eos_token}\"), dtype=torch.long) for text in training_data]\n",
    "\n",
    "def collate_fn(batch):\n",
    "    # Pad the sequences in the batch to the length of the longest sequence\n",
    "    batch_input_ids = pad_sequence(batch, batch_first=True, padding_value=tokenizer.pad_token_id)\n",
    "\n",
    "    # Generate attention mask (1 for tokens, 0 for padding)\n",
    "    attention_mask = (batch_input_ids != tokenizer.pad_token_id).long()\n",
    "\n",
    "    return batch_input_ids, attention_mask\n",
    "\n",
    "def shuffle_data(data):\n",
    "    indices = list(range(len(data)))\n",
    "    random.shuffle(indices)\n",
    "    return [data[i] for i in indices]\n",
    "\n",
    "# Training loop\n",
    "for epoch in range(epochs):\n",
    "    model.train()\n",
    "    total_loss = 0\n",
    "    training_input_ids = shuffle_data(training_input_ids)\n",
    "\n",
    "    for batch_idx in range(0, len(training_input_ids), batch_size):\n",
    "        batch = training_input_ids[batch_idx:batch_idx+batch_size]\n",
    "        batch_input_ids, attention_mask = collate_fn(batch)\n",
    "\n",
    "        # Shuffle sequences\n",
    "        shuffle_indices = torch.randperm(batch_input_ids.size(1))\n",
    "        #shuffle_indices = torch.arange(batch_input_ids.size(1))\n",
    "        shuffled_input_ids = batch_input_ids[:, shuffle_indices]\n",
    "        \n",
    "        # Generate positional encodings\n",
    "        pos_ids = torch.arange(batch_input_ids.size(1), dtype=torch.long, device=batch_input_ids.device).unsqueeze(0).repeat(batch_input_ids.size(0), 1)\n",
    "        shuffled_pos_ids = pos_ids[:, shuffle_indices]\n",
    "\n",
    "        # Generate next position IDs\n",
    "        next_pos_ids = torch.zeros_like(shuffled_pos_ids)\n",
    "        for i in range(next_pos_ids.size(1)):\n",
    "            next_pos_ids[:, i] = shuffled_pos_ids[:, (i + 1) % shuffled_pos_ids.size(1)]\n",
    "        \n",
    "        # Forward pass\n",
    "        optimizer.zero_grad()\n",
    "        outputs = model(input_ids=shuffled_input_ids, position_ids=shuffled_pos_ids, next_position_ids=next_pos_ids, attention_mask=attention_mask)\n",
    "        logits = outputs.logits\n",
    "\n",
    "        # Compute loss\n",
    "        shift_logits = logits[..., :-1, :].contiguous()\n",
    "        shift_labels = batch_input_ids[..., 1:].contiguous()\n",
    "        loss = loss_fn(shift_logits.view(-1, shift_logits.size(-1)), shift_labels.view(-1))\n",
    "\n",
    "        loss.backward()\n",
    "        optimizer.step()\n",
    "        scheduler.step()\n",
    "\n",
    "        total_loss += loss.item()\n",
    "\n",
    "        if batch_idx % (batch_size * 1) == 0:\n",
    "            print(f\"Epoch {epoch + 1}, Batch {batch_idx}, Loss: {loss.item()}\")\n",
    "\n",
    "\n",
    "\n",
    "print(\"Training complete\")\n"
   ],
   "metadata": {
    "collapsed": false,
    "ExecuteTime": {
     "end_time": "2024-06-26T16:04:58.251644Z",
     "start_time": "2024-06-26T16:04:58.196432Z"
    }
   },
   "id": "a36c4b01533d5fb3"
  },
  {
   "cell_type": "code",
   "execution_count": null,
   "outputs": [],
   "source": [
    "training_input_ids"
   ],
   "metadata": {
    "collapsed": false
   },
   "id": "4724f594886374cb"
  },
  {
   "cell_type": "code",
   "execution_count": null,
   "outputs": [],
   "source": [
    "model.save_pretrained('../notebooks/saved_models/')\n",
    "tokenizer.save_pretrained('../notebooks/saved_tokenizer/')\n"
   ],
   "metadata": {
    "collapsed": false
   },
   "id": "1e33a99423464d53"
  },
  {
   "cell_type": "code",
   "execution_count": null,
   "outputs": [],
   "source": [],
   "metadata": {
    "collapsed": false
   },
   "id": "195f1e8fd69a4db0"
  },
  {
   "cell_type": "code",
   "execution_count": null,
   "outputs": [],
   "source": [],
   "metadata": {
    "collapsed": false
   },
   "id": "8a8d797467014619"
  },
  {
   "cell_type": "code",
   "execution_count": null,
   "outputs": [],
   "source": [],
   "metadata": {
    "collapsed": false
   },
   "id": "a6b134475b9e8e91"
  },
  {
   "cell_type": "code",
   "execution_count": null,
   "outputs": [],
   "source": [],
   "metadata": {
    "collapsed": false
   },
   "id": "e5db7926b1a3c34a"
  }
 ],
 "metadata": {
  "kernelspec": {
   "display_name": "Python 3",
   "language": "python",
   "name": "python3"
  },
  "language_info": {
   "codemirror_mode": {
    "name": "ipython",
    "version": 2
   },
   "file_extension": ".py",
   "mimetype": "text/x-python",
   "name": "python",
   "nbconvert_exporter": "python",
   "pygments_lexer": "ipython2",
   "version": "2.7.6"
  }
 },
 "nbformat": 4,
 "nbformat_minor": 5
}
