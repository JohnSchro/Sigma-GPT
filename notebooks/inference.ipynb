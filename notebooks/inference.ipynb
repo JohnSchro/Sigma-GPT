{
 "cells": [
  {
   "cell_type": "code",
   "execution_count": 9,
   "id": "initial_id",
   "metadata": {
    "collapsed": true,
    "ExecuteTime": {
     "end_time": "2024-06-26T16:29:48.733457Z",
     "start_time": "2024-06-26T16:29:48.722307Z"
    }
   },
   "outputs": [],
   "source": [
    "#!pip install transformers -U"
   ]
  },
  {
   "cell_type": "code",
   "execution_count": 10,
   "outputs": [
    {
     "name": "stdout",
     "output_type": "stream",
     "text": [
      "Adding path: /Users/johnschroter/IdeaProjects/Sigma-GPT/src\n"
     ]
    }
   ],
   "source": [
    "import sys\n",
    "import os\n",
    "\n",
    "# Add the correct path to the local transformers directory\n",
    "local_path = os.path.abspath('../src/')\n",
    "print(\"Adding path:\", local_path)  # Verify the path to be added\n",
    "sys.path.insert(0, local_path)"
   ],
   "metadata": {
    "collapsed": false,
    "ExecuteTime": {
     "end_time": "2024-06-26T16:29:48.750121Z",
     "start_time": "2024-06-26T16:29:48.727035Z"
    }
   },
   "id": "12b6f9dd58fac1ae"
  },
  {
   "cell_type": "code",
   "execution_count": 11,
   "outputs": [
    {
     "name": "stdout",
     "output_type": "stream",
     "text": [
      "/Users/johnschroter/IdeaProjects/Sigma-GPT/src/transformers/models/gpt2/tokenization_gpt2.py\n",
      "/Users/johnschroter/IdeaProjects/Sigma-GPT/src/transformers/models/gpt2/modeling_gpt2.py\n"
     ]
    }
   ],
   "source": [
    "# Import your modified GPT2 classes\n",
    "from transformers.models.gpt2.tokenization_gpt2 import *\n",
    "from transformers.models.gpt2.modeling_gpt2 import *\n",
    "\n",
    "# Verify that the modules are being loaded from the correct path\n",
    "import transformers.models.gpt2.tokenization_gpt2\n",
    "import transformers.models.gpt2.modeling_gpt2\n",
    "\n",
    "print(transformers.models.gpt2.tokenization_gpt2.__file__)  # Should point to your local file\n",
    "print(transformers.models.gpt2.modeling_gpt2.__file__)  # Should point to your local file"
   ],
   "metadata": {
    "collapsed": false,
    "ExecuteTime": {
     "end_time": "2024-06-26T16:29:48.750624Z",
     "start_time": "2024-06-26T16:29:48.731993Z"
    }
   },
   "id": "cc37c95c07bd9ea3"
  },
  {
   "cell_type": "code",
   "execution_count": 12,
   "outputs": [
    {
     "name": "stderr",
     "output_type": "stream",
     "text": [
      "Some weights of CustomGPT2LMHeadModel were not initialized from the model checkpoint at gpt2 and are newly initialized: ['lm_head.weight', 'wte.LayerNorm.bias', 'wte.LayerNorm.weight', 'wte.next_position_embeddings.weight', 'wte.position_embeddings.weight', 'wte.word_embeddings.weight']\n",
      "You should probably TRAIN this model on a down-stream task to be able to use it for predictions and inference.\n"
     ]
    }
   ],
   "source": [
    "# Initialize the tokenizer and configuration\n",
    "tokenizer = GPT2Tokenizer.from_pretrained('gpt2')\n",
    "config = GPT2Config.from_pretrained('gpt2')\n",
    "\n",
    "# Initialize the custom model\n",
    "model = CustomGPT2LMHeadModel.from_pretrained('gpt2')"
   ],
   "metadata": {
    "collapsed": false,
    "ExecuteTime": {
     "end_time": "2024-06-26T16:29:55.520507Z",
     "start_time": "2024-06-26T16:29:48.736711Z"
    }
   },
   "id": "31fb9f2fa84738bf"
  },
  {
   "cell_type": "code",
   "execution_count": 41,
   "outputs": [
    {
     "name": "stdout",
     "output_type": "stream",
     "text": [
      "Input Text:  The quick brown fox jumps over the lazy dog.\n",
      "Predicted Response:   the over The brown quick dog jumps fox beginning\n"
     ]
    }
   ],
   "source": [
    "#tokenizer = GPT2Tokenizer.from_pretrained('gpt2')\n",
    "# Example input\n",
    "input_text = (\"The quick brown fox jumps over the lazy dog.\")\n",
    "input_ids = tokenizer.encode(input_text, return_tensors='pt')\n",
    "\n",
    "# Generate shuffled order\n",
    "shuffle_indices = torch.randperm(input_ids.size(1))\n",
    "#shuffle_indices = torch.arange(input_ids.size(1))\n",
    "shuffled_input_ids = input_ids[:, shuffle_indices]\n",
    "\n",
    "# Generate positional encodings\n",
    "pos_ids = torch.arange(input_ids.size(1)).unsqueeze(0)\n",
    "shuffled_pos_ids = pos_ids[:, shuffle_indices]\n",
    "# Generate the next_pos_ids by rolling the shuffle indices\n",
    "next_pos_ids = torch.roll(shuffle_indices, shifts=-1, dims=0).unsqueeze(0)\n",
    "\n",
    "# Forward pass to get the output logits\n",
    "outputs = model(input_ids=shuffled_input_ids, position_ids=shuffled_pos_ids, next_position_ids=next_pos_ids)\n",
    "\n",
    "# Get the logits and convert to token IDs\n",
    "logits = outputs.logits\n",
    "predicted_token_ids = torch.argmax(logits, dim=-1)\n",
    "\n",
    "# Undo the shuffle before decoding\n",
    "_, unshuffle_indices = torch.sort(shuffle_indices)\n",
    "unshuffled_predicted_token_ids = predicted_token_ids[:, unshuffle_indices]\n",
    "\n",
    "# Decode the token IDs to get the output words\n",
    "predicted_text = tokenizer.decode(unshuffled_predicted_token_ids[0], skip_special_tokens=True)\n",
    "\n",
    "print(\"Input Text: \", input_text)\n",
    "print(\"Predicted Response: \", predicted_text)"
   ],
   "metadata": {
    "collapsed": false,
    "ExecuteTime": {
     "end_time": "2024-06-26T16:52:09.802685Z",
     "start_time": "2024-06-26T16:52:09.765057Z"
    }
   },
   "id": "580f2762c623923d"
  },
  {
   "cell_type": "code",
   "execution_count": 14,
   "outputs": [
    {
     "name": "stderr",
     "output_type": "stream",
     "text": [
      "Some weights of CustomGPT2LMHeadModel were not initialized from the model checkpoint at gpt2 and are newly initialized: ['lm_head.weight', 'wte.LayerNorm.bias', 'wte.LayerNorm.weight', 'wte.next_position_embeddings.weight', 'wte.position_embeddings.weight', 'wte.word_embeddings.weight']\n",
      "You should probably TRAIN this model on a down-stream task to be able to use it for predictions and inference.\n"
     ]
    }
   ],
   "source": [
    "import torch\n",
    "from transformers import GPT2Tokenizer, GPT2Config, AdamW, get_scheduler\n",
    "from torch.nn.utils.rnn import pad_sequence\n",
    "from torch.nn import CrossEntropyLoss\n",
    "from typing import Optional, Tuple, Union\n",
    "\n",
    "# Initialize the tokenizer and configuration\n",
    "tokenizer = GPT2Tokenizer.from_pretrained('gpt2')\n",
    "config = GPT2Config.from_pretrained('gpt2', output_attentions=True)\n",
    "\n",
    "# Set pad token if it's not already set\n",
    "if tokenizer.pad_token is None:\n",
    "    tokenizer.add_special_tokens({'pad_token': '[PAD]'})\n",
    "\n",
    "# Add BOS and EOS tokens if not present\n",
    "if tokenizer.bos_token is None:\n",
    "    tokenizer.add_special_tokens({'bos_token': '<|startoftext|>'})\n",
    "if tokenizer.eos_token is None:\n",
    "    tokenizer.add_special_tokens({'eos_token': '<|endoftext|>'})\n",
    "\n",
    "# Initialize the custom model\n",
    "model = CustomGPT2LMHeadModel.from_pretrained('gpt2')\n",
    "model.resize_token_embeddings(len(tokenizer))  # Resize embeddings if the tokenizer size has changed\n",
    "\n",
    "# Placeholder for training data, replace this with your actual data\n",
    "training_data = [\n",
    "    \"The quick brown fox jumps over the lazy dog.\",\n",
    "    \"In the heart of the bustling city, a lone musician played a haunting melody.\",\n",
    "    \"Artificial intelligence is transforming industries across the globe.\",\n",
    "    \"The sun set over the horizon, painting the sky in shades of pink and orange.\",\n",
    "    \"A mysterious figure emerged from the shadows, cloaked in darkness.\",\n",
    "    \"With every passing year, technology advances at an unprecedented rate.\",\n",
    "    \"The ancient ruins stood as a testament to a long-forgotten civilization.\",\n",
    "    \"She whispered secrets to the wind, hoping they would reach the stars.\",\n",
    "    \"The scientist carefully documented the results of the groundbreaking experiment.\",\n",
    "    \"In the stillness of the night, the only sound was the distant howl of a wolf.\",\n",
    "    \"The library was a haven for those who sought knowledge and solace.\",\n",
    "    \"He crafted intricate sculptures from blocks of ice, each one a fleeting masterpiece.\",\n",
    "    \"Beneath the waves, a vibrant coral reef teemed with marine life.\",\n",
    "    \"Her laughter was like music, bringing joy to everyone around her.\",\n",
    "    \"The adventurer braved the treacherous mountains in search of hidden treasures.\",\n",
    "    \"In the garden, flowers of every color bloomed in a riotous display.\",\n",
    "    \"The clock struck midnight, marking the beginning of a new year.\",\n",
    "    \"He opened the ancient book, its pages filled with arcane symbols.\",\n",
    "    \"The spaceship soared through the cosmos, exploring uncharted territories.\",\n",
    "    \"She penned letters to her future self, filled with hopes and dreams.\",\n",
    "    \"The chef prepared a feast, each dish more delectable than the last.\",\n",
    "    \"In the forest, the trees whispered ancient secrets to those who would listen.\",\n",
    "    \"The artist painted a masterpiece, capturing the essence of a fleeting moment.\",\n",
    "    \"The storm raged on, lightning illuminating the darkened sky.\",\n",
    "    \"The detective pieced together the clues, unraveling the mystery bit by bit.\"\n",
    "]"
   ],
   "metadata": {
    "collapsed": false,
    "ExecuteTime": {
     "end_time": "2024-06-26T16:29:57.729676Z",
     "start_time": "2024-06-26T16:29:55.580230Z"
    }
   },
   "id": "d94cbf7270e85644"
  },
  {
   "cell_type": "code",
   "execution_count": 25,
   "outputs": [
    {
     "name": "stdout",
     "output_type": "stream",
     "text": [
      "Epoch 1, Batch 0, Loss: 0.19178904592990875\n",
      "Epoch 1, Batch 5, Loss: 0.2975171208381653\n",
      "Epoch 1, Batch 10, Loss: 0.1874660849571228\n",
      "Epoch 1, Batch 15, Loss: 0.03809083625674248\n",
      "Epoch 1, Batch 20, Loss: 0.20364564657211304\n",
      "Epoch 2, Batch 0, Loss: 0.21940068900585175\n",
      "Epoch 2, Batch 5, Loss: 0.047172121703624725\n",
      "Epoch 2, Batch 10, Loss: 0.06681718677282333\n",
      "Epoch 2, Batch 15, Loss: 0.2121160626411438\n",
      "Epoch 2, Batch 20, Loss: 0.08916961401700974\n",
      "Epoch 3, Batch 0, Loss: 0.043321818113327026\n",
      "Epoch 3, Batch 5, Loss: 0.29507261514663696\n",
      "Epoch 3, Batch 10, Loss: 0.2438671886920929\n",
      "Epoch 3, Batch 15, Loss: 0.3089396357536316\n",
      "Epoch 3, Batch 20, Loss: 0.09384378790855408\n",
      "Epoch 4, Batch 0, Loss: 0.06894025951623917\n",
      "Epoch 4, Batch 5, Loss: 0.22612759470939636\n",
      "Epoch 4, Batch 10, Loss: 0.06205897405743599\n",
      "Epoch 4, Batch 15, Loss: 0.2648087441921234\n",
      "Epoch 4, Batch 20, Loss: 0.2760961949825287\n",
      "Epoch 5, Batch 0, Loss: 0.0606607161462307\n",
      "Epoch 5, Batch 5, Loss: 0.3439575731754303\n",
      "Epoch 5, Batch 10, Loss: 0.20804542303085327\n",
      "Epoch 5, Batch 15, Loss: 0.10162513703107834\n",
      "Epoch 5, Batch 20, Loss: 0.0559174120426178\n",
      "Epoch 6, Batch 0, Loss: 0.2258652001619339\n",
      "Epoch 6, Batch 5, Loss: 0.16217266023159027\n",
      "Epoch 6, Batch 10, Loss: 0.012402653694152832\n",
      "Epoch 6, Batch 15, Loss: 0.06517001986503601\n",
      "Epoch 6, Batch 20, Loss: 0.14614424109458923\n",
      "Epoch 7, Batch 0, Loss: 0.14482860267162323\n",
      "Epoch 7, Batch 5, Loss: 0.14238794147968292\n",
      "Epoch 7, Batch 10, Loss: 0.35291895270347595\n",
      "Epoch 7, Batch 15, Loss: 0.1696864813566208\n",
      "Epoch 7, Batch 20, Loss: 0.22330886125564575\n",
      "Epoch 8, Batch 0, Loss: 0.12609796226024628\n",
      "Epoch 8, Batch 5, Loss: 0.12408842146396637\n",
      "Epoch 8, Batch 10, Loss: 0.0405622273683548\n",
      "Epoch 8, Batch 15, Loss: 0.0747864693403244\n",
      "Epoch 8, Batch 20, Loss: 0.12965542078018188\n",
      "Epoch 9, Batch 0, Loss: 0.08969616889953613\n",
      "Epoch 9, Batch 5, Loss: 0.11640269309282303\n",
      "Epoch 9, Batch 10, Loss: 0.012853526510298252\n",
      "Epoch 9, Batch 15, Loss: 0.1278211772441864\n",
      "Epoch 9, Batch 20, Loss: 0.07075478136539459\n",
      "Epoch 10, Batch 0, Loss: 0.1268773078918457\n",
      "Epoch 10, Batch 5, Loss: 0.1931520253419876\n",
      "Epoch 10, Batch 10, Loss: 0.3268558084964752\n",
      "Epoch 10, Batch 15, Loss: 0.2564312517642975\n",
      "Epoch 10, Batch 20, Loss: 0.10423660278320312\n",
      "Epoch 11, Batch 0, Loss: 0.21450495719909668\n",
      "Epoch 11, Batch 5, Loss: 0.17830048501491547\n",
      "Epoch 11, Batch 10, Loss: 0.2537635862827301\n",
      "Epoch 11, Batch 15, Loss: 0.10798555612564087\n",
      "Epoch 11, Batch 20, Loss: 0.06783214211463928\n",
      "Epoch 12, Batch 0, Loss: 0.015694238245487213\n",
      "Epoch 12, Batch 5, Loss: 0.06140527129173279\n",
      "Epoch 12, Batch 10, Loss: 0.08127844333648682\n",
      "Epoch 12, Batch 15, Loss: 0.07381521910429001\n",
      "Epoch 12, Batch 20, Loss: 0.05155481770634651\n",
      "Epoch 13, Batch 0, Loss: 0.15445072948932648\n",
      "Epoch 13, Batch 5, Loss: 0.12623272836208344\n",
      "Epoch 13, Batch 10, Loss: 0.027338366955518723\n",
      "Epoch 13, Batch 15, Loss: 0.11870471388101578\n",
      "Epoch 13, Batch 20, Loss: 0.0544293187558651\n",
      "Epoch 14, Batch 0, Loss: 0.017932472750544548\n",
      "Epoch 14, Batch 5, Loss: 0.09346488863229752\n",
      "Epoch 14, Batch 10, Loss: 0.1264280527830124\n",
      "Epoch 14, Batch 15, Loss: 0.013222401961684227\n",
      "Epoch 14, Batch 20, Loss: 0.14135657250881195\n",
      "Epoch 15, Batch 0, Loss: 0.2763146758079529\n",
      "Epoch 15, Batch 5, Loss: 0.23191635310649872\n",
      "Epoch 15, Batch 10, Loss: 0.2047087550163269\n",
      "Epoch 15, Batch 15, Loss: 0.08148752897977829\n",
      "Epoch 15, Batch 20, Loss: 0.14369504153728485\n",
      "Epoch 16, Batch 0, Loss: 0.2408025711774826\n",
      "Epoch 16, Batch 5, Loss: 0.117277130484581\n",
      "Epoch 16, Batch 10, Loss: 0.04860696941614151\n",
      "Epoch 16, Batch 15, Loss: 0.03792648762464523\n",
      "Epoch 16, Batch 20, Loss: 0.058676306158304214\n",
      "Epoch 17, Batch 0, Loss: 0.009808038361370564\n",
      "Epoch 17, Batch 5, Loss: 0.3686925768852234\n",
      "Epoch 17, Batch 10, Loss: 0.04704122617840767\n",
      "Epoch 17, Batch 15, Loss: 0.05905759707093239\n",
      "Epoch 17, Batch 20, Loss: 0.23030923306941986\n",
      "Epoch 18, Batch 0, Loss: 0.12421218305826187\n",
      "Epoch 18, Batch 5, Loss: 0.23321093618869781\n",
      "Epoch 18, Batch 10, Loss: 0.07725145667791367\n",
      "Epoch 18, Batch 15, Loss: 0.06510110199451447\n",
      "Epoch 18, Batch 20, Loss: 0.3180633783340454\n",
      "Epoch 19, Batch 0, Loss: 0.07461081445217133\n",
      "Epoch 19, Batch 5, Loss: 0.18276512622833252\n",
      "Epoch 19, Batch 10, Loss: 0.08992955088615417\n",
      "Epoch 19, Batch 15, Loss: 0.20367586612701416\n",
      "Epoch 19, Batch 20, Loss: 0.29923728108406067\n",
      "Epoch 20, Batch 0, Loss: 0.13655154407024384\n",
      "Epoch 20, Batch 5, Loss: 0.039921198040246964\n",
      "Epoch 20, Batch 10, Loss: 0.17310871183872223\n",
      "Epoch 20, Batch 15, Loss: 0.23877602815628052\n",
      "Epoch 20, Batch 20, Loss: 0.11061012744903564\n",
      "Epoch 21, Batch 0, Loss: 0.22595885396003723\n",
      "Epoch 21, Batch 5, Loss: 0.20313380658626556\n",
      "Epoch 21, Batch 10, Loss: 0.38090917468070984\n",
      "Epoch 21, Batch 15, Loss: 0.06348484754562378\n",
      "Epoch 21, Batch 20, Loss: 0.027133911848068237\n",
      "Epoch 22, Batch 0, Loss: 0.04591522365808487\n",
      "Epoch 22, Batch 5, Loss: 0.16645726561546326\n",
      "Epoch 22, Batch 10, Loss: 0.3023923933506012\n",
      "Epoch 22, Batch 15, Loss: 0.3284705579280853\n",
      "Epoch 22, Batch 20, Loss: 0.19808344542980194\n",
      "Epoch 23, Batch 0, Loss: 0.20676420629024506\n",
      "Epoch 23, Batch 5, Loss: 0.21062874794006348\n",
      "Epoch 23, Batch 10, Loss: 0.08909193426370621\n",
      "Epoch 23, Batch 15, Loss: 0.07428225129842758\n",
      "Epoch 23, Batch 20, Loss: 0.1904298961162567\n",
      "Epoch 24, Batch 0, Loss: 0.2735648453235626\n",
      "Epoch 24, Batch 5, Loss: 0.1145402267575264\n",
      "Epoch 24, Batch 10, Loss: 0.1969720721244812\n",
      "Epoch 24, Batch 15, Loss: 0.138630673289299\n",
      "Epoch 24, Batch 20, Loss: 0.3105592131614685\n",
      "Epoch 25, Batch 0, Loss: 0.2961511015892029\n",
      "Epoch 25, Batch 5, Loss: 0.10941383242607117\n",
      "Epoch 25, Batch 10, Loss: 0.3831651508808136\n",
      "Epoch 25, Batch 15, Loss: 0.10499438643455505\n",
      "Epoch 25, Batch 20, Loss: 0.21214435994625092\n",
      "Epoch 26, Batch 0, Loss: 0.015945294871926308\n",
      "Epoch 26, Batch 5, Loss: 0.17155832052230835\n",
      "Epoch 26, Batch 10, Loss: 0.2995581328868866\n",
      "Epoch 26, Batch 15, Loss: 0.1039227619767189\n",
      "Epoch 26, Batch 20, Loss: 0.19867847859859467\n",
      "Epoch 27, Batch 0, Loss: 0.11776088178157806\n",
      "Epoch 27, Batch 5, Loss: 0.06811004877090454\n",
      "Epoch 27, Batch 10, Loss: 0.07050181925296783\n",
      "Epoch 27, Batch 15, Loss: 0.14075493812561035\n",
      "Epoch 27, Batch 20, Loss: 0.3987426459789276\n",
      "Epoch 28, Batch 0, Loss: 0.09685275703668594\n",
      "Epoch 28, Batch 5, Loss: 0.22964951395988464\n",
      "Epoch 28, Batch 10, Loss: 0.1307808756828308\n",
      "Epoch 28, Batch 15, Loss: 0.2667878270149231\n",
      "Epoch 28, Batch 20, Loss: 0.06918121874332428\n",
      "Epoch 29, Batch 0, Loss: 0.059327371418476105\n",
      "Epoch 29, Batch 5, Loss: 0.2692527174949646\n",
      "Epoch 29, Batch 10, Loss: 0.010386502370238304\n",
      "Epoch 29, Batch 15, Loss: 0.19155697524547577\n",
      "Epoch 29, Batch 20, Loss: 0.1562003195285797\n",
      "Epoch 30, Batch 0, Loss: 0.1343577355146408\n",
      "Epoch 30, Batch 5, Loss: 0.02762129157781601\n",
      "Epoch 30, Batch 10, Loss: 0.3470228612422943\n",
      "Epoch 30, Batch 15, Loss: 0.014217959716916084\n",
      "Epoch 30, Batch 20, Loss: 0.07421816885471344\n"
     ]
    },
    {
     "ename": "KeyboardInterrupt",
     "evalue": "",
     "output_type": "error",
     "traceback": [
      "\u001B[0;31m---------------------------------------------------------------------------\u001B[0m",
      "\u001B[0;31mKeyboardInterrupt\u001B[0m                         Traceback (most recent call last)",
      "Cell \u001B[0;32mIn[25], line 66\u001B[0m\n\u001B[1;32m     63\u001B[0m shift_labels \u001B[38;5;241m=\u001B[39m shuffled_input_ids[\u001B[38;5;241m.\u001B[39m\u001B[38;5;241m.\u001B[39m\u001B[38;5;241m.\u001B[39m, \u001B[38;5;241m1\u001B[39m:]\u001B[38;5;241m.\u001B[39mcontiguous()\n\u001B[1;32m     64\u001B[0m loss \u001B[38;5;241m=\u001B[39m loss_fn(shift_logits\u001B[38;5;241m.\u001B[39mview(\u001B[38;5;241m-\u001B[39m\u001B[38;5;241m1\u001B[39m, shift_logits\u001B[38;5;241m.\u001B[39msize(\u001B[38;5;241m-\u001B[39m\u001B[38;5;241m1\u001B[39m)), shift_labels\u001B[38;5;241m.\u001B[39mview(\u001B[38;5;241m-\u001B[39m\u001B[38;5;241m1\u001B[39m))\n\u001B[0;32m---> 66\u001B[0m \u001B[43mloss\u001B[49m\u001B[38;5;241;43m.\u001B[39;49m\u001B[43mbackward\u001B[49m\u001B[43m(\u001B[49m\u001B[43m)\u001B[49m\n\u001B[1;32m     67\u001B[0m optimizer\u001B[38;5;241m.\u001B[39mstep()\n\u001B[1;32m     68\u001B[0m scheduler\u001B[38;5;241m.\u001B[39mstep()\n",
      "File \u001B[0;32m~/miniforge3/lib/python3.10/site-packages/torch/_tensor.py:488\u001B[0m, in \u001B[0;36mTensor.backward\u001B[0;34m(self, gradient, retain_graph, create_graph, inputs)\u001B[0m\n\u001B[1;32m    478\u001B[0m \u001B[38;5;28;01mif\u001B[39;00m has_torch_function_unary(\u001B[38;5;28mself\u001B[39m):\n\u001B[1;32m    479\u001B[0m     \u001B[38;5;28;01mreturn\u001B[39;00m handle_torch_function(\n\u001B[1;32m    480\u001B[0m         Tensor\u001B[38;5;241m.\u001B[39mbackward,\n\u001B[1;32m    481\u001B[0m         (\u001B[38;5;28mself\u001B[39m,),\n\u001B[0;32m   (...)\u001B[0m\n\u001B[1;32m    486\u001B[0m         inputs\u001B[38;5;241m=\u001B[39minputs,\n\u001B[1;32m    487\u001B[0m     )\n\u001B[0;32m--> 488\u001B[0m \u001B[43mtorch\u001B[49m\u001B[38;5;241;43m.\u001B[39;49m\u001B[43mautograd\u001B[49m\u001B[38;5;241;43m.\u001B[39;49m\u001B[43mbackward\u001B[49m\u001B[43m(\u001B[49m\n\u001B[1;32m    489\u001B[0m \u001B[43m    \u001B[49m\u001B[38;5;28;43mself\u001B[39;49m\u001B[43m,\u001B[49m\u001B[43m \u001B[49m\u001B[43mgradient\u001B[49m\u001B[43m,\u001B[49m\u001B[43m \u001B[49m\u001B[43mretain_graph\u001B[49m\u001B[43m,\u001B[49m\u001B[43m \u001B[49m\u001B[43mcreate_graph\u001B[49m\u001B[43m,\u001B[49m\u001B[43m \u001B[49m\u001B[43minputs\u001B[49m\u001B[38;5;241;43m=\u001B[39;49m\u001B[43minputs\u001B[49m\n\u001B[1;32m    490\u001B[0m \u001B[43m\u001B[49m\u001B[43m)\u001B[49m\n",
      "File \u001B[0;32m~/miniforge3/lib/python3.10/site-packages/torch/autograd/__init__.py:197\u001B[0m, in \u001B[0;36mbackward\u001B[0;34m(tensors, grad_tensors, retain_graph, create_graph, grad_variables, inputs)\u001B[0m\n\u001B[1;32m    192\u001B[0m     retain_graph \u001B[38;5;241m=\u001B[39m create_graph\n\u001B[1;32m    194\u001B[0m \u001B[38;5;66;03m# The reason we repeat same the comment below is that\u001B[39;00m\n\u001B[1;32m    195\u001B[0m \u001B[38;5;66;03m# some Python versions print out the first line of a multi-line function\u001B[39;00m\n\u001B[1;32m    196\u001B[0m \u001B[38;5;66;03m# calls in the traceback and some print out the last line\u001B[39;00m\n\u001B[0;32m--> 197\u001B[0m \u001B[43mVariable\u001B[49m\u001B[38;5;241;43m.\u001B[39;49m\u001B[43m_execution_engine\u001B[49m\u001B[38;5;241;43m.\u001B[39;49m\u001B[43mrun_backward\u001B[49m\u001B[43m(\u001B[49m\u001B[43m  \u001B[49m\u001B[38;5;66;43;03m# Calls into the C++ engine to run the backward pass\u001B[39;49;00m\n\u001B[1;32m    198\u001B[0m \u001B[43m    \u001B[49m\u001B[43mtensors\u001B[49m\u001B[43m,\u001B[49m\u001B[43m \u001B[49m\u001B[43mgrad_tensors_\u001B[49m\u001B[43m,\u001B[49m\u001B[43m \u001B[49m\u001B[43mretain_graph\u001B[49m\u001B[43m,\u001B[49m\u001B[43m \u001B[49m\u001B[43mcreate_graph\u001B[49m\u001B[43m,\u001B[49m\u001B[43m \u001B[49m\u001B[43minputs\u001B[49m\u001B[43m,\u001B[49m\n\u001B[1;32m    199\u001B[0m \u001B[43m    \u001B[49m\u001B[43mallow_unreachable\u001B[49m\u001B[38;5;241;43m=\u001B[39;49m\u001B[38;5;28;43;01mTrue\u001B[39;49;00m\u001B[43m,\u001B[49m\u001B[43m \u001B[49m\u001B[43maccumulate_grad\u001B[49m\u001B[38;5;241;43m=\u001B[39;49m\u001B[38;5;28;43;01mTrue\u001B[39;49;00m\u001B[43m)\u001B[49m\n",
      "\u001B[0;31mKeyboardInterrupt\u001B[0m: "
     ]
    }
   ],
   "source": [
    "import random\n",
    "\n",
    "# Hyperparameters\n",
    "epochs = 1000\n",
    "batch_size = 5  # Adjust batch size as needed\n",
    "learning_rate = 5e-6\n",
    "\n",
    "# Optimizer and scheduler\n",
    "optimizer = AdamW(model.parameters(), lr=learning_rate)\n",
    "scheduler = get_scheduler(\"linear\", optimizer=optimizer, num_warmup_steps=0, num_training_steps=epochs * len(training_data) // batch_size)\n",
    "\n",
    "# Loss function\n",
    "loss_fn = CrossEntropyLoss(ignore_index=tokenizer.pad_token_id)\n",
    "\n",
    "# Convert training data to input IDs\n",
    "training_input_ids = [torch.tensor(tokenizer.encode(f\"{tokenizer.bos_token} {text} {tokenizer.eos_token}\"), dtype=torch.long) for text in training_data]\n",
    "\n",
    "def collate_fn(batch):\n",
    "    # Pad the sequences in the batch to the length of the longest sequence\n",
    "    batch_input_ids = pad_sequence(batch, batch_first=True, padding_value=tokenizer.pad_token_id)\n",
    "\n",
    "    # Generate attention mask (1 for tokens, 0 for padding)\n",
    "    attention_mask = (batch_input_ids != tokenizer.pad_token_id).long()\n",
    "\n",
    "    return batch_input_ids, attention_mask\n",
    "\n",
    "def shuffle_data(data):\n",
    "    indices = list(range(len(data)))\n",
    "    random.shuffle(indices)\n",
    "    return [data[i] for i in indices]\n",
    "\n",
    "# Training loop\n",
    "for epoch in range(epochs):\n",
    "    model.train()\n",
    "    total_loss = 0\n",
    "    training_input_ids = shuffle_data(training_input_ids)\n",
    "\n",
    "    for batch_idx in range(0, len(training_input_ids), batch_size):\n",
    "        batch = training_input_ids[batch_idx:batch_idx+batch_size]\n",
    "        batch_input_ids, attention_mask = collate_fn(batch)\n",
    "\n",
    "        # Shuffle sequences\n",
    "        shuffle_indices = torch.randperm(batch_input_ids.size(1))\n",
    "        #shuffle_indices = torch.arange(batch_input_ids.size(1))\n",
    "        shuffled_input_ids = batch_input_ids[:, shuffle_indices]\n",
    "        \n",
    "        # Generate positional encodings\n",
    "        pos_ids = torch.arange(batch_input_ids.size(1), dtype=torch.long, device=batch_input_ids.device).unsqueeze(0).repeat(batch_input_ids.size(0), 1)\n",
    "        shuffled_pos_ids = pos_ids[:, shuffle_indices]\n",
    "\n",
    "        # Generate next position IDs\n",
    "        next_pos_ids = torch.zeros_like(shuffled_pos_ids)\n",
    "        for i in range(next_pos_ids.size(1)):\n",
    "            next_pos_ids[:, i] = shuffled_pos_ids[:, (i + 1) % shuffled_pos_ids.size(1)]\n",
    "        \n",
    "        # Forward pass\n",
    "        optimizer.zero_grad()\n",
    "        outputs = model(input_ids=shuffled_input_ids, position_ids=shuffled_pos_ids, next_position_ids=next_pos_ids, attention_mask=attention_mask)\n",
    "        logits = outputs.logits\n",
    "\n",
    "        # Compute loss\n",
    "        shift_logits = logits[..., :-1, :].contiguous()\n",
    "        shift_labels = shuffled_input_ids[..., 1:].contiguous()\n",
    "        loss = loss_fn(shift_logits.view(-1, shift_logits.size(-1)), shift_labels.view(-1))\n",
    "\n",
    "        loss.backward()\n",
    "        optimizer.step()\n",
    "        scheduler.step()\n",
    "\n",
    "        total_loss += loss.item()\n",
    "\n",
    "        if batch_idx % (batch_size * 1) == 0:\n",
    "            print(f\"Epoch {epoch + 1}, Batch {batch_idx}, Loss: {loss.item()}\")\n",
    "\n",
    "\n",
    "\n",
    "print(\"Training complete\")\n"
   ],
   "metadata": {
    "collapsed": false,
    "ExecuteTime": {
     "end_time": "2024-06-26T16:45:32.719294Z",
     "start_time": "2024-06-26T16:44:36.612321Z"
    }
   },
   "id": "a36c4b01533d5fb3"
  },
  {
   "cell_type": "code",
   "execution_count": null,
   "outputs": [],
   "source": [
    "training_input_ids"
   ],
   "metadata": {
    "collapsed": false,
    "ExecuteTime": {
     "end_time": "2024-06-26T16:33:05.153781Z",
     "start_time": "2024-06-26T16:33:05.153393Z"
    }
   },
   "id": "4724f594886374cb"
  },
  {
   "cell_type": "code",
   "execution_count": null,
   "outputs": [],
   "source": [
    "model.save_pretrained('../notebooks/saved_models/')\n",
    "tokenizer.save_pretrained('../notebooks/saved_tokenizer/')\n"
   ],
   "metadata": {
    "collapsed": false,
    "ExecuteTime": {
     "start_time": "2024-06-26T16:33:05.154247Z"
    }
   },
   "id": "1e33a99423464d53"
  },
  {
   "cell_type": "code",
   "execution_count": 26,
   "outputs": [
    {
     "data": {
      "text/plain": "torch.Size([5, 19, 50258])"
     },
     "execution_count": 26,
     "metadata": {},
     "output_type": "execute_result"
    }
   ],
   "source": [
    "logits.shape"
   ],
   "metadata": {
    "collapsed": false,
    "ExecuteTime": {
     "end_time": "2024-06-26T16:45:36.207413Z",
     "start_time": "2024-06-26T16:45:36.200863Z"
    }
   },
   "id": "195f1e8fd69a4db0"
  },
  {
   "cell_type": "code",
   "execution_count": 19,
   "outputs": [
    {
     "data": {
      "text/plain": "tensor([[50257, 50257,   286, 50257, 50256, 12395, 50256,  6306, 50257, 11444,\n          2482, 50257,   262,   262, 50257,   383, 31088, 50257,   220, 50257,\n         50257,  7773],\n        [10912, 11398,    11,    13,   286,   625, 50256,  6766, 50256,  4252,\n         17810, 50257, 12036,   262, 50257,   383,   262,   290, 23787, 50257,\n           220,   900],\n        [  220,  6004, 25029, 50256,   561,    11, 50256,   284, 50257,   262,\n          7150, 50257,  6156,   262, 50257,   554, 13141,    13,   508, 50257,\n         50257,  8222],\n        [  220,  1204, 21266, 50256, 16050,  9813, 50256,   573, 50257,   776,\n           257, 50257, 29537,    11, 50257, 36585, 25088,    13,   351, 50257,\n         50257,   262],\n        [50257,   220,   663, 50257,    13,  6156, 50256,   351, 50257,  4721,\n            11, 50257,  5468,  1492, 50257,   679,  5901, 50256, 14354, 50257,\n         50257,   262],\n        [50257, 50256, 14901, 50257,   220,   614, 50256, 13029, 50257,   790,\n          3037, 50257,   379,    11, 50257,  2080,   281, 50257,    13, 50257,\n         50257,  6427],\n        [  220, 14355, 29210, 50256, 21646,  6204, 50256,   890, 50257,  6156,\n           257, 50257,   284,   355, 50257,   383,   257,    13,  1640, 50257,\n         50257, 20073],\n        [50256,    13,    11, 50257,  5788,   284, 50256,   561, 50257, 25029,\n          2344, 50257,  7725,   262, 50257,  1375,   484,   220,   262, 50257,\n         50257, 13141],\n        [50257,   220,   262, 50257,    13, 15896, 50256,   257, 50257,  8801,\n         18730, 50257,  3726,    11, 50257,   383,   286, 50256,   614, 50257,\n         50257,  7425],\n        [50256,    13,   883, 50257,   558,   257, 50256,  3725, 50257,  5888,\n           329, 50257,   508,  4398, 50257,   383,  7194,   220,  1540, 50257,\n         50257,   373],\n        [50257, 50257, 46717, 50257, 50256,   319, 50256,  6766, 50257,  6388,\n         14357, 50257,   262,    11, 50257,   383, 44261, 50257,   220, 50257,\n         50257, 49000],\n        [50256,    13, 21430, 50257,  2589,   257, 50256,   286, 50257,  6802,\n            11, 50257,   262, 30669, 50257,   383, 12799,   220, 42738, 50257,\n         50257, 13055],\n        [50257, 50257,   262, 50257, 50257, 21831, 50256,    13, 50257,  2068,\n           625, 50257, 16931, 18045, 50257,   383,  3290, 50257, 50256, 50257,\n         50257,  7586],\n        [50256,    13,  2116, 50257, 10625,   284, 50256,   351, 50257, 34989,\n          2003, 50257,    11,   607, 50257,  1375,  5901,   220,   290, 50257,\n         50257,  7475],\n        [50257, 50256, 16187, 50257,   220,  9349, 50256,   287, 50257, 11428,\n           262, 50257,    11,   422, 50257,   317, 45853, 50257,    13, 50257,\n         50257,  3785],\n        [  220, 30669,   286, 50256, 42738, 42645, 50256,  1123, 50257, 18025,\n          7021, 50257,  4771,   422, 50257,   679,    11,    13,   257, 50257,\n         50257, 28746],\n        [50257, 50256,    11, 50257,   220,   832, 50256, 19112, 50257, 40663,\n         39385, 50257, 13504,   262, 50257,   383, 16258, 50257,    13, 50257,\n         50257, 35292],\n        [50257,   220,  6079, 50257,    13,   588, 50256,  2506, 50257, 20263,\n            11, 50257,  8716,  2647, 50257,  2332,   284, 50256,   607, 50257,\n         50257,   373],\n        [   13,   416, 20195,   220,  1643,   771, 50256,   278, 50257, 20775,\n           262, 50257,    11,  1978, 50257,   383, 30282,  1643, 10715, 50257,\n         50256,  2508],\n        [   13,   262,  1123,   220,   621,   257, 50256,   390, 50257, 21221,\n            11, 50257,  9433, 26951, 50257,   383,   517,   938,   540, 50257,\n         50256,  5597],\n        [50257, 50257,   262, 50257, 50257, 25449, 50256,   220, 50257,  4430,\n          1973, 50257, 13342, 11798, 50257, 35941,    13, 50257, 50257, 50257,\n         50257,   318],\n        [   13,   516,   790,   220, 16352,    11, 50256,   276, 50257,   262,\n           286, 50257,  3124, 12734, 50257,   554, 29955,  3359,   257, 50257,\n         50256, 11376],\n        [50257,   220, 12269, 50257,    13,  1079, 50256,   286, 50257, 40994,\n         45365, 50257,   287,   262, 50257,   383,  2989, 50256, 29561, 50257,\n         50257,  8290],\n        [   75, 12899,  1755,   286,   262,  1108, 50256,   691, 17481,   262,\n           262,    13,    11,   286,   220,   554,   262,   703,   373, 50256,\n           257,   991],\n        [   13, 36660,  1748,   220,   257,   286, 50256, 13497, 50257,   262,\n         46609, 50257,    11,   262, 50257,   554,   257, 32859,  2826, 50257,\n         50256,  2612]])"
     },
     "execution_count": 19,
     "metadata": {},
     "output_type": "execute_result"
    }
   ],
   "source": [
    "shift_labels"
   ],
   "metadata": {
    "collapsed": false,
    "ExecuteTime": {
     "end_time": "2024-06-26T16:34:51.433927Z",
     "start_time": "2024-06-26T16:34:51.428240Z"
    }
   },
   "id": "8a8d797467014619"
  },
  {
   "cell_type": "code",
   "execution_count": 30,
   "outputs": [
    {
     "data": {
      "text/plain": "' more dish de, chefable a.  last<|endoftext|> prepared<|endoftext|> feast each thelect The'"
     },
     "execution_count": 30,
     "metadata": {},
     "output_type": "execute_result"
    }
   ],
   "source": [
    "tokenizer.decode(shift_labels[0])"
   ],
   "metadata": {
    "collapsed": false,
    "ExecuteTime": {
     "end_time": "2024-06-26T16:50:07.253246Z",
     "start_time": "2024-06-26T16:50:07.244109Z"
    }
   },
   "id": "a6b134475b9e8e91"
  },
  {
   "cell_type": "code",
   "execution_count": null,
   "outputs": [],
   "source": [],
   "metadata": {
    "collapsed": false,
    "ExecuteTime": {
     "start_time": "2024-06-26T16:33:05.159252Z"
    }
   },
   "id": "e5db7926b1a3c34a"
  }
 ],
 "metadata": {
  "kernelspec": {
   "display_name": "Python 3",
   "language": "python",
   "name": "python3"
  },
  "language_info": {
   "codemirror_mode": {
    "name": "ipython",
    "version": 2
   },
   "file_extension": ".py",
   "mimetype": "text/x-python",
   "name": "python",
   "nbconvert_exporter": "python",
   "pygments_lexer": "ipython2",
   "version": "2.7.6"
  }
 },
 "nbformat": 4,
 "nbformat_minor": 5
}
