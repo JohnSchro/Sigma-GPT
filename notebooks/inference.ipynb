{
 "cells": [
  {
   "cell_type": "code",
   "execution_count": 9,
   "id": "initial_id",
   "metadata": {
    "collapsed": true,
    "ExecuteTime": {
     "end_time": "2024-06-26T16:29:48.733457Z",
     "start_time": "2024-06-26T16:29:48.722307Z"
    }
   },
   "outputs": [],
   "source": [
    "#!pip install transformers -U"
   ]
  },
  {
   "cell_type": "code",
   "execution_count": 5,
   "outputs": [
    {
     "name": "stdout",
     "output_type": "stream",
     "text": [
      "PYTHONPATH: /Users/johnschroter/IdeaProjects/Sigma-GPT\n",
      "sys.path: ['/Users/johnschroter/IdeaProjects/Sigma-GPT/src', '/Users/johnschroter/IdeaProjects/Sigma-GPT/src', '/Users/johnschroter/Library/Application Support/JetBrains/IntelliJIdea2023.2/plugins/python/helpers-pro/jupyter_debug', '/Users/johnschroter/Library/Application Support/JetBrains/IntelliJIdea2023.2/plugins/python/helpers/pydev', '/Users/johnschroter/IdeaProjects/Sigma-GPT/notebooks', '/Users/johnschroter/IdeaProjects/Sigma-GPT', '/Users/johnschroter/miniforge3/lib/python310.zip', '/Users/johnschroter/miniforge3/lib/python3.10', '/Users/johnschroter/miniforge3/lib/python3.10/lib-dynload', '', '/Users/johnschroter/miniforge3/lib/python3.10/site-packages']\n"
     ]
    }
   ],
   "source": [
    "import os\n",
    "print(\"PYTHONPATH:\", os.environ.get('PYTHONPATH'))\n",
    "print(\"sys.path:\", sys.path)\n"
   ],
   "metadata": {
    "collapsed": false,
    "ExecuteTime": {
     "end_time": "2024-06-27T22:20:24.637795Z",
     "start_time": "2024-06-27T22:20:24.631286Z"
    }
   },
   "id": "aa2ad626ce524523"
  },
  {
   "cell_type": "code",
   "execution_count": 4,
   "outputs": [
    {
     "name": "stdout",
     "output_type": "stream",
     "text": [
      "Adding path: /Users/johnschroter/IdeaProjects/Sigma-GPT/src\n"
     ]
    }
   ],
   "source": [
    "import sys\n",
    "import os\n",
    "\n",
    "# Add the correct path to the local transformers directory\n",
    "local_path = os.path.abspath('../src/')\n",
    "print(\"Adding path:\", local_path)  # Verify the path to be added\n",
    "sys.path.insert(0, local_path)"
   ],
   "metadata": {
    "collapsed": false,
    "ExecuteTime": {
     "end_time": "2024-06-27T22:20:23.202573Z",
     "start_time": "2024-06-27T22:20:23.197183Z"
    }
   },
   "id": "12b6f9dd58fac1ae"
  },
  {
   "cell_type": "code",
   "execution_count": 5,
   "outputs": [
    {
     "name": "stdout",
     "output_type": "stream",
     "text": [
      "/Users/johnschroter/IdeaProjects/Sigma-GPT/src/transformers/models/gpt2/tokenization_gpt2.py\n",
      "/Users/johnschroter/IdeaProjects/Sigma-GPT/src/transformers/models/gpt2/modeling_gpt2.py\n"
     ]
    }
   ],
   "source": [
    "# Import your modified GPT2 classes\n",
    "from transformers.models.gpt2.tokenization_gpt2 import *\n",
    "from transformers.models.gpt2.modeling_gpt2 import *\n",
    "\n",
    "# Verify that the modules are being loaded from the correct path\n",
    "import transformers.models.gpt2.tokenization_gpt2\n",
    "import transformers.models.gpt2.modeling_gpt2\n",
    "\n",
    "print(transformers.models.gpt2.tokenization_gpt2.__file__)  # Should point to your local file\n",
    "print(transformers.models.gpt2.modeling_gpt2.__file__)  # Should point to your local file"
   ],
   "metadata": {
    "collapsed": false,
    "ExecuteTime": {
     "end_time": "2024-06-27T22:17:41.375719Z",
     "start_time": "2024-06-27T22:17:41.372024Z"
    }
   },
   "id": "cc37c95c07bd9ea3"
  },
  {
   "cell_type": "code",
   "execution_count": 12,
   "outputs": [
    {
     "name": "stderr",
     "output_type": "stream",
     "text": [
      "Some weights of CustomGPT2LMHeadModel were not initialized from the model checkpoint at gpt2 and are newly initialized: ['lm_head.weight', 'wte.LayerNorm.bias', 'wte.LayerNorm.weight', 'wte.next_position_embeddings.weight', 'wte.position_embeddings.weight', 'wte.word_embeddings.weight']\n",
      "You should probably TRAIN this model on a down-stream task to be able to use it for predictions and inference.\n"
     ]
    }
   ],
   "source": [
    "# Initialize the tokenizer and configuration\n",
    "tokenizer = GPT2Tokenizer.from_pretrained('gpt2')\n",
    "config = GPT2Config.from_pretrained('gpt2')\n",
    "\n",
    "# Initialize the custom model\n",
    "model = CustomGPT2LMHeadModel.from_pretrained('gpt2')"
   ],
   "metadata": {
    "collapsed": false,
    "ExecuteTime": {
     "end_time": "2024-06-26T16:29:55.520507Z",
     "start_time": "2024-06-26T16:29:48.736711Z"
    }
   },
   "id": "31fb9f2fa84738bf"
  },
  {
   "cell_type": "code",
   "execution_count": 41,
   "outputs": [
    {
     "name": "stdout",
     "output_type": "stream",
     "text": [
      "Input Text:  The quick brown fox jumps over the lazy dog.\n",
      "Predicted Response:   the over The brown quick dog jumps fox beginning\n"
     ]
    }
   ],
   "source": [
    "#tokenizer = GPT2Tokenizer.from_pretrained('gpt2')\n",
    "# Example input\n",
    "input_text = (\"The quick brown fox jumps over the lazy dog.\")\n",
    "input_ids = tokenizer.encode(input_text, return_tensors='pt')\n",
    "\n",
    "# Generate shuffled order\n",
    "shuffle_indices = torch.randperm(input_ids.size(1))\n",
    "#shuffle_indices = torch.arange(input_ids.size(1))\n",
    "shuffled_input_ids = input_ids[:, shuffle_indices]\n",
    "\n",
    "# Generate positional encodings\n",
    "pos_ids = torch.arange(input_ids.size(1)).unsqueeze(0)\n",
    "shuffled_pos_ids = pos_ids[:, shuffle_indices]\n",
    "# Generate the next_pos_ids by rolling the shuffle indices\n",
    "next_pos_ids = torch.roll(shuffle_indices, shifts=-1, dims=0).unsqueeze(0)\n",
    "\n",
    "# Forward pass to get the output logits\n",
    "outputs = model(input_ids=shuffled_input_ids, position_ids=shuffled_pos_ids, next_position_ids=next_pos_ids)\n",
    "\n",
    "# Get the logits and convert to token IDs\n",
    "logits = outputs.logits\n",
    "predicted_token_ids = torch.argmax(logits, dim=-1)\n",
    "\n",
    "# Undo the shuffle before decoding\n",
    "_, unshuffle_indices = torch.sort(shuffle_indices)\n",
    "unshuffled_predicted_token_ids = predicted_token_ids[:, unshuffle_indices]\n",
    "\n",
    "# Decode the token IDs to get the output words\n",
    "predicted_text = tokenizer.decode(unshuffled_predicted_token_ids[0], skip_special_tokens=True)\n",
    "\n",
    "print(\"Input Text: \", input_text)\n",
    "print(\"Predicted Response: \", predicted_text)"
   ],
   "metadata": {
    "collapsed": false,
    "ExecuteTime": {
     "end_time": "2024-06-26T16:52:09.802685Z",
     "start_time": "2024-06-26T16:52:09.765057Z"
    }
   },
   "id": "580f2762c623923d"
  },
  {
   "cell_type": "code",
   "execution_count": 14,
   "outputs": [
    {
     "name": "stderr",
     "output_type": "stream",
     "text": [
      "Some weights of CustomGPT2LMHeadModel were not initialized from the model checkpoint at gpt2 and are newly initialized: ['lm_head.weight', 'wte.LayerNorm.bias', 'wte.LayerNorm.weight', 'wte.next_position_embeddings.weight', 'wte.position_embeddings.weight', 'wte.word_embeddings.weight']\n",
      "You should probably TRAIN this model on a down-stream task to be able to use it for predictions and inference.\n"
     ]
    }
   ],
   "source": [
    "import torch\n",
    "from transformers import GPT2Tokenizer, GPT2Config, AdamW, get_scheduler\n",
    "from torch.nn.utils.rnn import pad_sequence\n",
    "from torch.nn import CrossEntropyLoss\n",
    "from typing import Optional, Tuple, Union\n",
    "\n",
    "# Initialize the tokenizer and configuration\n",
    "tokenizer = GPT2Tokenizer.from_pretrained('gpt2')\n",
    "config = GPT2Config.from_pretrained('gpt2', output_attentions=True)\n",
    "\n",
    "# Set pad token if it's not already set\n",
    "if tokenizer.pad_token is None:\n",
    "    tokenizer.add_special_tokens({'pad_token': '[PAD]'})\n",
    "\n",
    "# Add BOS and EOS tokens if not present\n",
    "if tokenizer.bos_token is None:\n",
    "    tokenizer.add_special_tokens({'bos_token': '<|startoftext|>'})\n",
    "if tokenizer.eos_token is None:\n",
    "    tokenizer.add_special_tokens({'eos_token': '<|endoftext|>'})\n",
    "\n",
    "# Initialize the custom model\n",
    "model = CustomGPT2LMHeadModel.from_pretrained('gpt2')\n",
    "model.resize_token_embeddings(len(tokenizer))  # Resize embeddings if the tokenizer size has changed\n",
    "\n",
    "# Placeholder for training data, replace this with your actual data\n",
    "training_data = [\n",
    "    \"The quick brown fox jumps over the lazy dog.\",\n",
    "    \"In the heart of the bustling city, a lone musician played a haunting melody.\",\n",
    "    \"Artificial intelligence is transforming industries across the globe.\",\n",
    "    \"The sun set over the horizon, painting the sky in shades of pink and orange.\",\n",
    "    \"A mysterious figure emerged from the shadows, cloaked in darkness.\",\n",
    "    \"With every passing year, technology advances at an unprecedented rate.\",\n",
    "    \"The ancient ruins stood as a testament to a long-forgotten civilization.\",\n",
    "    \"She whispered secrets to the wind, hoping they would reach the stars.\",\n",
    "    \"The scientist carefully documented the results of the groundbreaking experiment.\",\n",
    "    \"In the stillness of the night, the only sound was the distant howl of a wolf.\",\n",
    "    \"The library was a haven for those who sought knowledge and solace.\",\n",
    "    \"He crafted intricate sculptures from blocks of ice, each one a fleeting masterpiece.\",\n",
    "    \"Beneath the waves, a vibrant coral reef teemed with marine life.\",\n",
    "    \"Her laughter was like music, bringing joy to everyone around her.\",\n",
    "    \"The adventurer braved the treacherous mountains in search of hidden treasures.\",\n",
    "    \"In the garden, flowers of every color bloomed in a riotous display.\",\n",
    "    \"The clock struck midnight, marking the beginning of a new year.\",\n",
    "    \"He opened the ancient book, its pages filled with arcane symbols.\",\n",
    "    \"The spaceship soared through the cosmos, exploring uncharted territories.\",\n",
    "    \"She penned letters to her future self, filled with hopes and dreams.\",\n",
    "    \"The chef prepared a feast, each dish more delectable than the last.\",\n",
    "    \"In the forest, the trees whispered ancient secrets to those who would listen.\",\n",
    "    \"The artist painted a masterpiece, capturing the essence of a fleeting moment.\",\n",
    "    \"The storm raged on, lightning illuminating the darkened sky.\",\n",
    "    \"The detective pieced together the clues, unraveling the mystery bit by bit.\"\n",
    "]"
   ],
   "metadata": {
    "collapsed": false,
    "ExecuteTime": {
     "end_time": "2024-06-26T16:29:57.729676Z",
     "start_time": "2024-06-26T16:29:55.580230Z"
    }
   },
   "id": "d94cbf7270e85644"
  },
  {
   "cell_type": "code",
   "execution_count": 43,
   "outputs": [
    {
     "ename": "SyntaxError",
     "evalue": "invalid syntax (3203652459.py, line 1)",
     "output_type": "error",
     "traceback": [
      "\u001B[0;36m  Cell \u001B[0;32mIn[43], line 1\u001B[0;36m\u001B[0m\n\u001B[0;31m    todo:\u001B[0m\n\u001B[0m         ^\u001B[0m\n\u001B[0;31mSyntaxError\u001B[0m\u001B[0;31m:\u001B[0m invalid syntax\n"
     ]
    }
   ],
   "source": [
    "# ISSUE RIGHT NOW IS THAT PADDING TOKENS ARE GETTING RANDOMIZED AND THE MODEL IS TRYING TO PREDICT THE PADDING TOKENS\n",
    "\n",
    "import random\n",
    "\n",
    "# Hyperparameters\n",
    "epochs = 1000\n",
    "batch_size = 5  # Adjust batch size as needed\n",
    "learning_rate = 5e-6\n",
    "\n",
    "# Optimizer and scheduler\n",
    "optimizer = AdamW(model.parameters(), lr=learning_rate)\n",
    "scheduler = get_scheduler(\"linear\", optimizer=optimizer, num_warmup_steps=0, num_training_steps=epochs * len(training_data) // batch_size)\n",
    "\n",
    "# Loss function\n",
    "loss_fn = CrossEntropyLoss(ignore_index=tokenizer.pad_token_id)\n",
    "\n",
    "# Convert training data to input IDs\n",
    "training_input_ids = [torch.tensor(tokenizer.encode(f\"{tokenizer.bos_token} {text} {tokenizer.eos_token}\"), dtype=torch.long) for text in training_data]\n",
    "\n",
    "def collate_fn(batch):\n",
    "    # Pad the sequences in the batch to the length of the longest sequence\n",
    "    batch_input_ids = pad_sequence(batch, batch_first=True, padding_value=tokenizer.pad_token_id)\n",
    "\n",
    "    # Generate attention mask (1 for tokens, 0 for padding)\n",
    "    attention_mask = (batch_input_ids != tokenizer.pad_token_id).long()\n",
    "\n",
    "    return batch_input_ids, attention_mask\n",
    "\n",
    "def shuffle_data(data):\n",
    "    indices = list(range(len(data)))\n",
    "    random.shuffle(indices)\n",
    "    return [data[i] for i in indices]\n",
    "\n",
    "# Training loop\n",
    "for epoch in range(epochs):\n",
    "    model.train()\n",
    "    total_loss = 0\n",
    "    training_input_ids = shuffle_data(training_input_ids)\n",
    "\n",
    "    for batch_idx in range(0, len(training_input_ids), batch_size):\n",
    "        batch = training_input_ids[batch_idx:batch_idx+batch_size]\n",
    "        batch_input_ids, attention_mask = collate_fn(batch)\n",
    "\n",
    "        # Shuffle sequences\n",
    "        shuffle_indices = torch.randperm(batch_input_ids.size(1))\n",
    "        #shuffle_indices = torch.arange(batch_input_ids.size(1))\n",
    "        shuffled_input_ids = batch_input_ids[:, shuffle_indices]\n",
    "        \n",
    "        # Generate positional encodings\n",
    "        pos_ids = torch.arange(batch_input_ids.size(1), dtype=torch.long, device=batch_input_ids.device).unsqueeze(0).repeat(batch_input_ids.size(0), 1)\n",
    "        shuffled_pos_ids = pos_ids[:, shuffle_indices]\n",
    "\n",
    "        # Generate next position IDs\n",
    "        next_pos_ids = torch.zeros_like(shuffled_pos_ids)\n",
    "        for i in range(next_pos_ids.size(1)):\n",
    "            next_pos_ids[:, i] = shuffled_pos_ids[:, (i + 1) % shuffled_pos_ids.size(1)]\n",
    "        \n",
    "        # Forward pass\n",
    "        optimizer.zero_grad()\n",
    "        outputs = model(input_ids=shuffled_input_ids, position_ids=shuffled_pos_ids, next_position_ids=next_pos_ids, attention_mask=attention_mask)\n",
    "        logits = outputs.logits\n",
    "\n",
    "        # Compute loss\n",
    "        shift_logits = logits[..., :-1, :].contiguous()\n",
    "        shift_labels = shuffled_input_ids[..., 1:].contiguous()\n",
    "        loss = loss_fn(shift_logits.view(-1, shift_logits.size(-1)), shift_labels.view(-1))\n",
    "\n",
    "        loss.backward()\n",
    "        optimizer.step()\n",
    "        scheduler.step()\n",
    "\n",
    "        total_loss += loss.item()\n",
    "\n",
    "        if batch_idx % (batch_size * 1) == 0:\n",
    "            print(f\"Epoch {epoch + 1}, Batch {batch_idx}, Loss: {loss.item()}\")\n",
    "\n",
    "\n",
    "\n",
    "print(\"Training complete\")\n"
   ],
   "metadata": {
    "collapsed": false,
    "ExecuteTime": {
     "end_time": "2024-06-26T22:02:19.195859Z",
     "start_time": "2024-06-26T22:02:19.189791Z"
    }
   },
   "id": "a36c4b01533d5fb3"
  },
  {
   "cell_type": "code",
   "execution_count": null,
   "outputs": [],
   "source": [
    "training_input_ids"
   ],
   "metadata": {
    "collapsed": false,
    "ExecuteTime": {
     "end_time": "2024-06-26T16:33:05.153781Z",
     "start_time": "2024-06-26T16:33:05.153393Z"
    }
   },
   "id": "4724f594886374cb"
  },
  {
   "cell_type": "code",
   "execution_count": null,
   "outputs": [],
   "source": [
    "#model.save_pretrained('../notebooks/saved_models/')\n",
    "#tokenizer.save_pretrained('../notebooks/saved_tokenizer/')\n"
   ],
   "metadata": {
    "collapsed": false,
    "ExecuteTime": {
     "start_time": "2024-06-26T16:33:05.154247Z"
    }
   },
   "id": "1e33a99423464d53"
  },
  {
   "cell_type": "code",
   "execution_count": 26,
   "outputs": [
    {
     "data": {
      "text/plain": "torch.Size([5, 19, 50258])"
     },
     "execution_count": 26,
     "metadata": {},
     "output_type": "execute_result"
    }
   ],
   "source": [
    "logits.shape"
   ],
   "metadata": {
    "collapsed": false,
    "ExecuteTime": {
     "end_time": "2024-06-26T16:45:36.207413Z",
     "start_time": "2024-06-26T16:45:36.200863Z"
    }
   },
   "id": "195f1e8fd69a4db0"
  },
  {
   "cell_type": "code",
   "execution_count": 19,
   "outputs": [
    {
     "data": {
      "text/plain": "tensor([[50257, 50257,   286, 50257, 50256, 12395, 50256,  6306, 50257, 11444,\n          2482, 50257,   262,   262, 50257,   383, 31088, 50257,   220, 50257,\n         50257,  7773],\n        [10912, 11398,    11,    13,   286,   625, 50256,  6766, 50256,  4252,\n         17810, 50257, 12036,   262, 50257,   383,   262,   290, 23787, 50257,\n           220,   900],\n        [  220,  6004, 25029, 50256,   561,    11, 50256,   284, 50257,   262,\n          7150, 50257,  6156,   262, 50257,   554, 13141,    13,   508, 50257,\n         50257,  8222],\n        [  220,  1204, 21266, 50256, 16050,  9813, 50256,   573, 50257,   776,\n           257, 50257, 29537,    11, 50257, 36585, 25088,    13,   351, 50257,\n         50257,   262],\n        [50257,   220,   663, 50257,    13,  6156, 50256,   351, 50257,  4721,\n            11, 50257,  5468,  1492, 50257,   679,  5901, 50256, 14354, 50257,\n         50257,   262],\n        [50257, 50256, 14901, 50257,   220,   614, 50256, 13029, 50257,   790,\n          3037, 50257,   379,    11, 50257,  2080,   281, 50257,    13, 50257,\n         50257,  6427],\n        [  220, 14355, 29210, 50256, 21646,  6204, 50256,   890, 50257,  6156,\n           257, 50257,   284,   355, 50257,   383,   257,    13,  1640, 50257,\n         50257, 20073],\n        [50256,    13,    11, 50257,  5788,   284, 50256,   561, 50257, 25029,\n          2344, 50257,  7725,   262, 50257,  1375,   484,   220,   262, 50257,\n         50257, 13141],\n        [50257,   220,   262, 50257,    13, 15896, 50256,   257, 50257,  8801,\n         18730, 50257,  3726,    11, 50257,   383,   286, 50256,   614, 50257,\n         50257,  7425],\n        [50256,    13,   883, 50257,   558,   257, 50256,  3725, 50257,  5888,\n           329, 50257,   508,  4398, 50257,   383,  7194,   220,  1540, 50257,\n         50257,   373],\n        [50257, 50257, 46717, 50257, 50256,   319, 50256,  6766, 50257,  6388,\n         14357, 50257,   262,    11, 50257,   383, 44261, 50257,   220, 50257,\n         50257, 49000],\n        [50256,    13, 21430, 50257,  2589,   257, 50256,   286, 50257,  6802,\n            11, 50257,   262, 30669, 50257,   383, 12799,   220, 42738, 50257,\n         50257, 13055],\n        [50257, 50257,   262, 50257, 50257, 21831, 50256,    13, 50257,  2068,\n           625, 50257, 16931, 18045, 50257,   383,  3290, 50257, 50256, 50257,\n         50257,  7586],\n        [50256,    13,  2116, 50257, 10625,   284, 50256,   351, 50257, 34989,\n          2003, 50257,    11,   607, 50257,  1375,  5901,   220,   290, 50257,\n         50257,  7475],\n        [50257, 50256, 16187, 50257,   220,  9349, 50256,   287, 50257, 11428,\n           262, 50257,    11,   422, 50257,   317, 45853, 50257,    13, 50257,\n         50257,  3785],\n        [  220, 30669,   286, 50256, 42738, 42645, 50256,  1123, 50257, 18025,\n          7021, 50257,  4771,   422, 50257,   679,    11,    13,   257, 50257,\n         50257, 28746],\n        [50257, 50256,    11, 50257,   220,   832, 50256, 19112, 50257, 40663,\n         39385, 50257, 13504,   262, 50257,   383, 16258, 50257,    13, 50257,\n         50257, 35292],\n        [50257,   220,  6079, 50257,    13,   588, 50256,  2506, 50257, 20263,\n            11, 50257,  8716,  2647, 50257,  2332,   284, 50256,   607, 50257,\n         50257,   373],\n        [   13,   416, 20195,   220,  1643,   771, 50256,   278, 50257, 20775,\n           262, 50257,    11,  1978, 50257,   383, 30282,  1643, 10715, 50257,\n         50256,  2508],\n        [   13,   262,  1123,   220,   621,   257, 50256,   390, 50257, 21221,\n            11, 50257,  9433, 26951, 50257,   383,   517,   938,   540, 50257,\n         50256,  5597],\n        [50257, 50257,   262, 50257, 50257, 25449, 50256,   220, 50257,  4430,\n          1973, 50257, 13342, 11798, 50257, 35941,    13, 50257, 50257, 50257,\n         50257,   318],\n        [   13,   516,   790,   220, 16352,    11, 50256,   276, 50257,   262,\n           286, 50257,  3124, 12734, 50257,   554, 29955,  3359,   257, 50257,\n         50256, 11376],\n        [50257,   220, 12269, 50257,    13,  1079, 50256,   286, 50257, 40994,\n         45365, 50257,   287,   262, 50257,   383,  2989, 50256, 29561, 50257,\n         50257,  8290],\n        [   75, 12899,  1755,   286,   262,  1108, 50256,   691, 17481,   262,\n           262,    13,    11,   286,   220,   554,   262,   703,   373, 50256,\n           257,   991],\n        [   13, 36660,  1748,   220,   257,   286, 50256, 13497, 50257,   262,\n         46609, 50257,    11,   262, 50257,   554,   257, 32859,  2826, 50257,\n         50256,  2612]])"
     },
     "execution_count": 19,
     "metadata": {},
     "output_type": "execute_result"
    }
   ],
   "source": [
    "shift_labels"
   ],
   "metadata": {
    "collapsed": false,
    "ExecuteTime": {
     "end_time": "2024-06-26T16:34:51.433927Z",
     "start_time": "2024-06-26T16:34:51.428240Z"
    }
   },
   "id": "8a8d797467014619"
  },
  {
   "cell_type": "code",
   "execution_count": 30,
   "outputs": [
    {
     "data": {
      "text/plain": "' more dish de, chefable a.  last<|endoftext|> prepared<|endoftext|> feast each thelect The'"
     },
     "execution_count": 30,
     "metadata": {},
     "output_type": "execute_result"
    }
   ],
   "source": [
    "tokenizer.decode(shift_labels[0])"
   ],
   "metadata": {
    "collapsed": false,
    "ExecuteTime": {
     "end_time": "2024-06-26T16:50:07.253246Z",
     "start_time": "2024-06-26T16:50:07.244109Z"
    }
   },
   "id": "a6b134475b9e8e91"
  },
  {
   "cell_type": "code",
   "execution_count": null,
   "outputs": [],
   "source": [],
   "metadata": {
    "collapsed": false,
    "ExecuteTime": {
     "start_time": "2024-06-26T16:33:05.159252Z"
    }
   },
   "id": "e5db7926b1a3c34a"
  }
 ],
 "metadata": {
  "kernelspec": {
   "display_name": "Python 3",
   "language": "python",
   "name": "python3"
  },
  "language_info": {
   "codemirror_mode": {
    "name": "ipython",
    "version": 2
   },
   "file_extension": ".py",
   "mimetype": "text/x-python",
   "name": "python",
   "nbconvert_exporter": "python",
   "pygments_lexer": "ipython2",
   "version": "2.7.6"
  }
 },
 "nbformat": 4,
 "nbformat_minor": 5
}
