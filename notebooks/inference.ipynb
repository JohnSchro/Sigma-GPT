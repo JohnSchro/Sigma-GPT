{
 "cells": [
  {
   "cell_type": "code",
   "execution_count": 9,
   "id": "initial_id",
   "metadata": {
    "collapsed": true,
    "ExecuteTime": {
     "end_time": "2024-06-26T16:29:48.733457Z",
     "start_time": "2024-06-26T16:29:48.722307Z"
    }
   },
   "outputs": [],
   "source": [
    "#!pip install transformers -U"
   ]
  },
  {
   "cell_type": "code",
   "execution_count": 10,
   "outputs": [
    {
     "name": "stdout",
     "output_type": "stream",
     "text": [
      "Adding path: /Users/johnschroter/IdeaProjects/Sigma-GPT/src\n"
     ]
    }
   ],
   "source": [
    "import sys\n",
    "import os\n",
    "\n",
    "# Add the correct path to the local transformers directory\n",
    "local_path = os.path.abspath('../src/')\n",
    "print(\"Adding path:\", local_path)  # Verify the path to be added\n",
    "sys.path.insert(0, local_path)"
   ],
   "metadata": {
    "collapsed": false,
    "ExecuteTime": {
     "end_time": "2024-06-26T16:29:48.750121Z",
     "start_time": "2024-06-26T16:29:48.727035Z"
    }
   },
   "id": "12b6f9dd58fac1ae"
  },
  {
   "cell_type": "code",
   "execution_count": 11,
   "outputs": [
    {
     "name": "stdout",
     "output_type": "stream",
     "text": [
      "/Users/johnschroter/IdeaProjects/Sigma-GPT/src/transformers/models/gpt2/tokenization_gpt2.py\n",
      "/Users/johnschroter/IdeaProjects/Sigma-GPT/src/transformers/models/gpt2/modeling_gpt2.py\n"
     ]
    }
   ],
   "source": [
    "# Import your modified GPT2 classes\n",
    "from transformers.models.gpt2.tokenization_gpt2 import *\n",
    "from transformers.models.gpt2.modeling_gpt2 import *\n",
    "\n",
    "# Verify that the modules are being loaded from the correct path\n",
    "import transformers.models.gpt2.tokenization_gpt2\n",
    "import transformers.models.gpt2.modeling_gpt2\n",
    "\n",
    "print(transformers.models.gpt2.tokenization_gpt2.__file__)  # Should point to your local file\n",
    "print(transformers.models.gpt2.modeling_gpt2.__file__)  # Should point to your local file"
   ],
   "metadata": {
    "collapsed": false,
    "ExecuteTime": {
     "end_time": "2024-06-26T16:29:48.750624Z",
     "start_time": "2024-06-26T16:29:48.731993Z"
    }
   },
   "id": "cc37c95c07bd9ea3"
  },
  {
   "cell_type": "code",
   "execution_count": 12,
   "outputs": [
    {
     "name": "stderr",
     "output_type": "stream",
     "text": [
      "Some weights of CustomGPT2LMHeadModel were not initialized from the model checkpoint at gpt2 and are newly initialized: ['lm_head.weight', 'wte.LayerNorm.bias', 'wte.LayerNorm.weight', 'wte.next_position_embeddings.weight', 'wte.position_embeddings.weight', 'wte.word_embeddings.weight']\n",
      "You should probably TRAIN this model on a down-stream task to be able to use it for predictions and inference.\n"
     ]
    }
   ],
   "source": [
    "# Initialize the tokenizer and configuration\n",
    "tokenizer = GPT2Tokenizer.from_pretrained('gpt2')\n",
    "config = GPT2Config.from_pretrained('gpt2')\n",
    "\n",
    "# Initialize the custom model\n",
    "model = CustomGPT2LMHeadModel.from_pretrained('gpt2')"
   ],
   "metadata": {
    "collapsed": false,
    "ExecuteTime": {
     "end_time": "2024-06-26T16:29:55.520507Z",
     "start_time": "2024-06-26T16:29:48.736711Z"
    }
   },
   "id": "31fb9f2fa84738bf"
  },
  {
   "cell_type": "code",
   "execution_count": 13,
   "outputs": [
    {
     "name": "stdout",
     "output_type": "stream",
     "text": [
      "Input Text:  The quick brown fox jumps\n",
      "Predicted Response:   Rogers Rogersdoorsdoorscache\n"
     ]
    }
   ],
   "source": [
    "#tokenizer = GPT2Tokenizer.from_pretrained('gpt2')\n",
    "# Example input\n",
    "input_text = (\"The quick brown fox jumps\")\n",
    "input_ids = tokenizer.encode(input_text, return_tensors='pt')\n",
    "\n",
    "# Generate shuffled order\n",
    "shuffle_indices = torch.randperm(input_ids.size(1))\n",
    "#shuffle_indices = torch.arange(input_ids.size(1))\n",
    "shuffled_input_ids = input_ids[:, shuffle_indices]\n",
    "\n",
    "# Generate positional encodings\n",
    "pos_ids = torch.arange(input_ids.size(1)).unsqueeze(0)\n",
    "shuffled_pos_ids = pos_ids[:, shuffle_indices]\n",
    "# Generate the next_pos_ids by rolling the shuffle indices\n",
    "next_pos_ids = torch.roll(shuffle_indices, shifts=-1, dims=0).unsqueeze(0)\n",
    "\n",
    "# Forward pass to get the output logits\n",
    "outputs = model(input_ids=shuffled_input_ids, position_ids=shuffled_pos_ids, next_position_ids=next_pos_ids)\n",
    "\n",
    "# Get the logits and convert to token IDs\n",
    "logits = outputs.logits\n",
    "predicted_token_ids = torch.argmax(logits, dim=-1)\n",
    "\n",
    "# Undo the shuffle before decoding\n",
    "_, unshuffle_indices = torch.sort(shuffle_indices)\n",
    "unshuffled_predicted_token_ids = predicted_token_ids[:, unshuffle_indices]\n",
    "\n",
    "# Decode the token IDs to get the output words\n",
    "predicted_text = tokenizer.decode(unshuffled_predicted_token_ids[0], skip_special_tokens=True)\n",
    "\n",
    "print(\"Input Text: \", input_text)\n",
    "print(\"Predicted Response: \", predicted_text)"
   ],
   "metadata": {
    "collapsed": false,
    "ExecuteTime": {
     "end_time": "2024-06-26T16:29:55.581128Z",
     "start_time": "2024-06-26T16:29:55.519382Z"
    }
   },
   "id": "580f2762c623923d"
  },
  {
   "cell_type": "code",
   "execution_count": 14,
   "outputs": [
    {
     "name": "stderr",
     "output_type": "stream",
     "text": [
      "Some weights of CustomGPT2LMHeadModel were not initialized from the model checkpoint at gpt2 and are newly initialized: ['lm_head.weight', 'wte.LayerNorm.bias', 'wte.LayerNorm.weight', 'wte.next_position_embeddings.weight', 'wte.position_embeddings.weight', 'wte.word_embeddings.weight']\n",
      "You should probably TRAIN this model on a down-stream task to be able to use it for predictions and inference.\n"
     ]
    }
   ],
   "source": [
    "import torch\n",
    "from transformers import GPT2Tokenizer, GPT2Config, AdamW, get_scheduler\n",
    "from torch.nn.utils.rnn import pad_sequence\n",
    "from torch.nn import CrossEntropyLoss\n",
    "from typing import Optional, Tuple, Union\n",
    "\n",
    "# Initialize the tokenizer and configuration\n",
    "tokenizer = GPT2Tokenizer.from_pretrained('gpt2')\n",
    "config = GPT2Config.from_pretrained('gpt2', output_attentions=True)\n",
    "\n",
    "# Set pad token if it's not already set\n",
    "if tokenizer.pad_token is None:\n",
    "    tokenizer.add_special_tokens({'pad_token': '[PAD]'})\n",
    "\n",
    "# Add BOS and EOS tokens if not present\n",
    "if tokenizer.bos_token is None:\n",
    "    tokenizer.add_special_tokens({'bos_token': '<|startoftext|>'})\n",
    "if tokenizer.eos_token is None:\n",
    "    tokenizer.add_special_tokens({'eos_token': '<|endoftext|>'})\n",
    "\n",
    "# Initialize the custom model\n",
    "model = CustomGPT2LMHeadModel.from_pretrained('gpt2')\n",
    "model.resize_token_embeddings(len(tokenizer))  # Resize embeddings if the tokenizer size has changed\n",
    "\n",
    "# Placeholder for training data, replace this with your actual data\n",
    "training_data = [\n",
    "    \"The quick brown fox jumps over the lazy dog.\",\n",
    "    \"In the heart of the bustling city, a lone musician played a haunting melody.\",\n",
    "    \"Artificial intelligence is transforming industries across the globe.\",\n",
    "    \"The sun set over the horizon, painting the sky in shades of pink and orange.\",\n",
    "    \"A mysterious figure emerged from the shadows, cloaked in darkness.\",\n",
    "    \"With every passing year, technology advances at an unprecedented rate.\",\n",
    "    \"The ancient ruins stood as a testament to a long-forgotten civilization.\",\n",
    "    \"She whispered secrets to the wind, hoping they would reach the stars.\",\n",
    "    \"The scientist carefully documented the results of the groundbreaking experiment.\",\n",
    "    \"In the stillness of the night, the only sound was the distant howl of a wolf.\",\n",
    "    \"The library was a haven for those who sought knowledge and solace.\",\n",
    "    \"He crafted intricate sculptures from blocks of ice, each one a fleeting masterpiece.\",\n",
    "    \"Beneath the waves, a vibrant coral reef teemed with marine life.\",\n",
    "    \"Her laughter was like music, bringing joy to everyone around her.\",\n",
    "    \"The adventurer braved the treacherous mountains in search of hidden treasures.\",\n",
    "    \"In the garden, flowers of every color bloomed in a riotous display.\",\n",
    "    \"The clock struck midnight, marking the beginning of a new year.\",\n",
    "    \"He opened the ancient book, its pages filled with arcane symbols.\",\n",
    "    \"The spaceship soared through the cosmos, exploring uncharted territories.\",\n",
    "    \"She penned letters to her future self, filled with hopes and dreams.\",\n",
    "    \"The chef prepared a feast, each dish more delectable than the last.\",\n",
    "    \"In the forest, the trees whispered ancient secrets to those who would listen.\",\n",
    "    \"The artist painted a masterpiece, capturing the essence of a fleeting moment.\",\n",
    "    \"The storm raged on, lightning illuminating the darkened sky.\",\n",
    "    \"The detective pieced together the clues, unraveling the mystery bit by bit.\"\n",
    "]"
   ],
   "metadata": {
    "collapsed": false,
    "ExecuteTime": {
     "end_time": "2024-06-26T16:29:57.729676Z",
     "start_time": "2024-06-26T16:29:55.580230Z"
    }
   },
   "id": "d94cbf7270e85644"
  },
  {
   "cell_type": "code",
   "execution_count": null,
   "outputs": [
    {
     "name": "stdout",
     "output_type": "stream",
     "text": [
      "Epoch 1, Batch 0, Loss: 14.63951587677002\n",
      "Epoch 2, Batch 0, Loss: 10.971122741699219\n",
      "Epoch 3, Batch 0, Loss: 10.78005599975586\n",
      "Epoch 4, Batch 0, Loss: 10.588807106018066\n",
      "Epoch 5, Batch 0, Loss: 10.477395057678223\n",
      "Epoch 6, Batch 0, Loss: 10.28282356262207\n",
      "Epoch 7, Batch 0, Loss: 10.018815040588379\n",
      "Epoch 8, Batch 0, Loss: 9.698076248168945\n",
      "Epoch 9, Batch 0, Loss: 9.38814640045166\n",
      "Epoch 10, Batch 0, Loss: 8.769542694091797\n",
      "Epoch 11, Batch 0, Loss: 7.976982116699219\n",
      "Epoch 12, Batch 0, Loss: 7.476379871368408\n",
      "Epoch 13, Batch 0, Loss: 6.541189193725586\n",
      "Epoch 14, Batch 0, Loss: 6.284066200256348\n",
      "Epoch 15, Batch 0, Loss: 5.706801414489746\n",
      "Epoch 16, Batch 0, Loss: 5.5318708419799805\n",
      "Epoch 17, Batch 0, Loss: 5.230037212371826\n",
      "Epoch 18, Batch 0, Loss: 5.061039924621582\n",
      "Epoch 19, Batch 0, Loss: 4.769473075866699\n",
      "Epoch 20, Batch 0, Loss: 4.663898944854736\n",
      "Epoch 21, Batch 0, Loss: 4.680403232574463\n",
      "Epoch 22, Batch 0, Loss: 4.576603412628174\n",
      "Epoch 23, Batch 0, Loss: 4.5464982986450195\n",
      "Epoch 24, Batch 0, Loss: 4.527801990509033\n",
      "Epoch 25, Batch 0, Loss: 4.562419414520264\n",
      "Epoch 26, Batch 0, Loss: 4.471022605895996\n",
      "Epoch 27, Batch 0, Loss: 4.465012073516846\n",
      "Epoch 28, Batch 0, Loss: 4.42529296875\n",
      "Epoch 29, Batch 0, Loss: 4.31336784362793\n",
      "Epoch 30, Batch 0, Loss: 4.399970531463623\n",
      "Epoch 31, Batch 0, Loss: 4.297486782073975\n",
      "Epoch 32, Batch 0, Loss: 4.3621602058410645\n",
      "Epoch 33, Batch 0, Loss: 4.2884063720703125\n",
      "Epoch 34, Batch 0, Loss: 4.497448921203613\n",
      "Epoch 35, Batch 0, Loss: 4.181055068969727\n",
      "Epoch 36, Batch 0, Loss: 4.193077564239502\n",
      "Epoch 37, Batch 0, Loss: 4.148615837097168\n",
      "Epoch 38, Batch 0, Loss: 4.105403900146484\n",
      "Epoch 39, Batch 0, Loss: 4.148974895477295\n",
      "Epoch 40, Batch 0, Loss: 4.1476826667785645\n",
      "Epoch 41, Batch 0, Loss: 4.098159313201904\n",
      "Epoch 42, Batch 0, Loss: 4.009751796722412\n",
      "Epoch 43, Batch 0, Loss: 4.064359188079834\n",
      "Epoch 44, Batch 0, Loss: 3.919673442840576\n",
      "Epoch 45, Batch 0, Loss: 3.911442279815674\n",
      "Epoch 46, Batch 0, Loss: 3.953629732131958\n",
      "Epoch 47, Batch 0, Loss: 3.8529767990112305\n",
      "Epoch 48, Batch 0, Loss: 3.7825071811676025\n",
      "Epoch 49, Batch 0, Loss: 3.7435500621795654\n",
      "Epoch 50, Batch 0, Loss: 3.817031145095825\n",
      "Epoch 51, Batch 0, Loss: 3.686842441558838\n",
      "Epoch 52, Batch 0, Loss: 3.5900306701660156\n",
      "Epoch 53, Batch 0, Loss: 3.6431448459625244\n",
      "Epoch 54, Batch 0, Loss: 3.526430368423462\n",
      "Epoch 55, Batch 0, Loss: 3.5456836223602295\n",
      "Epoch 56, Batch 0, Loss: 3.4129726886749268\n",
      "Epoch 57, Batch 0, Loss: 3.3464672565460205\n",
      "Epoch 58, Batch 0, Loss: 3.325220823287964\n",
      "Epoch 59, Batch 0, Loss: 3.3255844116210938\n",
      "Epoch 60, Batch 0, Loss: 3.5117716789245605\n",
      "Epoch 61, Batch 0, Loss: 3.1622626781463623\n",
      "Epoch 62, Batch 0, Loss: 3.263749837875366\n",
      "Epoch 63, Batch 0, Loss: 3.027588129043579\n",
      "Epoch 64, Batch 0, Loss: 3.104445695877075\n",
      "Epoch 65, Batch 0, Loss: 3.0171728134155273\n",
      "Epoch 66, Batch 0, Loss: 2.937624931335449\n",
      "Epoch 67, Batch 0, Loss: 2.8674917221069336\n",
      "Epoch 68, Batch 0, Loss: 2.943934679031372\n",
      "Epoch 69, Batch 0, Loss: 3.5159964561462402\n",
      "Epoch 70, Batch 0, Loss: 2.886965274810791\n",
      "Epoch 71, Batch 0, Loss: 2.91066837310791\n",
      "Epoch 72, Batch 0, Loss: 2.819173574447632\n",
      "Epoch 73, Batch 0, Loss: 2.7885284423828125\n",
      "Epoch 74, Batch 0, Loss: 2.832303285598755\n",
      "Epoch 75, Batch 0, Loss: 2.7404253482818604\n",
      "Epoch 76, Batch 0, Loss: 2.7746763229370117\n",
      "Epoch 77, Batch 0, Loss: 2.665182113647461\n",
      "Epoch 78, Batch 0, Loss: 2.648817300796509\n",
      "Epoch 79, Batch 0, Loss: 2.903186321258545\n",
      "Epoch 80, Batch 0, Loss: 2.61616849899292\n",
      "Epoch 81, Batch 0, Loss: 2.587437868118286\n",
      "Epoch 82, Batch 0, Loss: 2.5045082569122314\n",
      "Epoch 83, Batch 0, Loss: 2.5125081539154053\n",
      "Epoch 84, Batch 0, Loss: 2.664332628250122\n",
      "Epoch 85, Batch 0, Loss: 2.5234639644622803\n",
      "Epoch 86, Batch 0, Loss: 2.45068359375\n",
      "Epoch 87, Batch 0, Loss: 2.591376543045044\n",
      "Epoch 88, Batch 0, Loss: 2.492039442062378\n",
      "Epoch 89, Batch 0, Loss: 2.428396463394165\n",
      "Epoch 90, Batch 0, Loss: 2.400373935699463\n",
      "Epoch 91, Batch 0, Loss: 2.318126916885376\n",
      "Epoch 92, Batch 0, Loss: 2.332580327987671\n",
      "Epoch 93, Batch 0, Loss: 2.383152484893799\n",
      "Epoch 94, Batch 0, Loss: 2.1533894538879395\n",
      "Epoch 95, Batch 0, Loss: 2.363661050796509\n",
      "Epoch 96, Batch 0, Loss: 2.2273507118225098\n",
      "Epoch 97, Batch 0, Loss: 2.097700595855713\n",
      "Epoch 98, Batch 0, Loss: 1.9722446203231812\n",
      "Epoch 99, Batch 0, Loss: 2.2714593410491943\n",
      "Epoch 100, Batch 0, Loss: 2.238585948944092\n",
      "Epoch 101, Batch 0, Loss: 1.9770534038543701\n",
      "Epoch 102, Batch 0, Loss: 2.1163856983184814\n",
      "Epoch 103, Batch 0, Loss: 2.0229358673095703\n",
      "Epoch 104, Batch 0, Loss: 1.8793580532073975\n",
      "Epoch 105, Batch 0, Loss: 2.030181646347046\n",
      "Epoch 106, Batch 0, Loss: 1.6699596643447876\n",
      "Epoch 107, Batch 0, Loss: 1.7352473735809326\n",
      "Epoch 108, Batch 0, Loss: 1.7411941289901733\n",
      "Epoch 109, Batch 0, Loss: 1.915797472000122\n",
      "Epoch 110, Batch 0, Loss: 1.5421706438064575\n",
      "Epoch 111, Batch 0, Loss: 1.6592330932617188\n",
      "Epoch 112, Batch 0, Loss: 1.6324868202209473\n",
      "Epoch 113, Batch 0, Loss: 1.5235484838485718\n",
      "Epoch 114, Batch 0, Loss: 1.522233486175537\n",
      "Epoch 115, Batch 0, Loss: 1.4396494626998901\n",
      "Epoch 116, Batch 0, Loss: 1.5943185091018677\n",
      "Epoch 117, Batch 0, Loss: 1.3712522983551025\n",
      "Epoch 118, Batch 0, Loss: 1.3477977514266968\n",
      "Epoch 119, Batch 0, Loss: 1.5230801105499268\n",
      "Epoch 120, Batch 0, Loss: 1.2664904594421387\n"
     ]
    }
   ],
   "source": [
    "import random\n",
    "\n",
    "# Hyperparameters\n",
    "epochs = 1000\n",
    "batch_size = 25  # Adjust batch size as needed\n",
    "learning_rate = 5e-4\n",
    "\n",
    "# Optimizer and scheduler\n",
    "optimizer = AdamW(model.parameters(), lr=learning_rate)\n",
    "scheduler = get_scheduler(\"linear\", optimizer=optimizer, num_warmup_steps=0, num_training_steps=epochs * len(training_data) // batch_size)\n",
    "\n",
    "# Loss function\n",
    "loss_fn = CrossEntropyLoss(ignore_index=tokenizer.pad_token_id)\n",
    "\n",
    "# Convert training data to input IDs\n",
    "training_input_ids = [torch.tensor(tokenizer.encode(f\"{tokenizer.bos_token} {text} {tokenizer.eos_token}\"), dtype=torch.long) for text in training_data]\n",
    "\n",
    "def collate_fn(batch):\n",
    "    # Pad the sequences in the batch to the length of the longest sequence\n",
    "    batch_input_ids = pad_sequence(batch, batch_first=True, padding_value=tokenizer.pad_token_id)\n",
    "\n",
    "    # Generate attention mask (1 for tokens, 0 for padding)\n",
    "    attention_mask = (batch_input_ids != tokenizer.pad_token_id).long()\n",
    "\n",
    "    return batch_input_ids, attention_mask\n",
    "\n",
    "def shuffle_data(data):\n",
    "    indices = list(range(len(data)))\n",
    "    random.shuffle(indices)\n",
    "    return [data[i] for i in indices]\n",
    "\n",
    "# Training loop\n",
    "for epoch in range(epochs):\n",
    "    model.train()\n",
    "    total_loss = 0\n",
    "    training_input_ids = shuffle_data(training_input_ids)\n",
    "\n",
    "    for batch_idx in range(0, len(training_input_ids), batch_size):\n",
    "        batch = training_input_ids[batch_idx:batch_idx+batch_size]\n",
    "        batch_input_ids, attention_mask = collate_fn(batch)\n",
    "\n",
    "        # Shuffle sequences\n",
    "        shuffle_indices = torch.randperm(batch_input_ids.size(1))\n",
    "        #shuffle_indices = torch.arange(batch_input_ids.size(1))\n",
    "        shuffled_input_ids = batch_input_ids[:, shuffle_indices]\n",
    "        \n",
    "        # Generate positional encodings\n",
    "        pos_ids = torch.arange(batch_input_ids.size(1), dtype=torch.long, device=batch_input_ids.device).unsqueeze(0).repeat(batch_input_ids.size(0), 1)\n",
    "        shuffled_pos_ids = pos_ids[:, shuffle_indices]\n",
    "\n",
    "        # Generate next position IDs\n",
    "        next_pos_ids = torch.zeros_like(shuffled_pos_ids)\n",
    "        for i in range(next_pos_ids.size(1)):\n",
    "            next_pos_ids[:, i] = shuffled_pos_ids[:, (i + 1) % shuffled_pos_ids.size(1)]\n",
    "        \n",
    "        # Forward pass\n",
    "        optimizer.zero_grad()\n",
    "        outputs = model(input_ids=shuffled_input_ids, position_ids=shuffled_pos_ids, next_position_ids=next_pos_ids, attention_mask=attention_mask)\n",
    "        logits = outputs.logits\n",
    "\n",
    "        # Compute loss\n",
    "        shift_logits = logits[..., :-1, :].contiguous()\n",
    "        shift_labels = shuffled_input_ids[..., 1:].contiguous()\n",
    "        loss = loss_fn(shift_logits.view(-1, shift_logits.size(-1)), shift_labels.view(-1))\n",
    "\n",
    "        loss.backward()\n",
    "        optimizer.step()\n",
    "        scheduler.step()\n",
    "\n",
    "        total_loss += loss.item()\n",
    "\n",
    "        if batch_idx % (batch_size * 1) == 0:\n",
    "            print(f\"Epoch {epoch + 1}, Batch {batch_idx}, Loss: {loss.item()}\")\n",
    "\n",
    "\n",
    "\n",
    "print(\"Training complete\")\n"
   ],
   "metadata": {
    "collapsed": false,
    "is_executing": true,
    "ExecuteTime": {
     "start_time": "2024-06-26T16:29:57.734461Z"
    }
   },
   "id": "a36c4b01533d5fb3"
  },
  {
   "cell_type": "code",
   "execution_count": null,
   "outputs": [],
   "source": [
    "training_input_ids"
   ],
   "metadata": {
    "collapsed": false,
    "is_executing": true
   },
   "id": "4724f594886374cb"
  },
  {
   "cell_type": "code",
   "execution_count": null,
   "outputs": [],
   "source": [
    "model.save_pretrained('../notebooks/saved_models/')\n",
    "tokenizer.save_pretrained('../notebooks/saved_tokenizer/')\n"
   ],
   "metadata": {
    "collapsed": false,
    "is_executing": true
   },
   "id": "1e33a99423464d53"
  },
  {
   "cell_type": "code",
   "execution_count": null,
   "outputs": [],
   "source": [],
   "metadata": {
    "collapsed": false,
    "is_executing": true
   },
   "id": "195f1e8fd69a4db0"
  },
  {
   "cell_type": "code",
   "execution_count": null,
   "outputs": [],
   "source": [],
   "metadata": {
    "collapsed": false,
    "is_executing": true
   },
   "id": "8a8d797467014619"
  },
  {
   "cell_type": "code",
   "execution_count": null,
   "outputs": [],
   "source": [],
   "metadata": {
    "collapsed": false,
    "is_executing": true
   },
   "id": "a6b134475b9e8e91"
  },
  {
   "cell_type": "code",
   "execution_count": null,
   "outputs": [],
   "source": [],
   "metadata": {
    "collapsed": false,
    "is_executing": true
   },
   "id": "e5db7926b1a3c34a"
  }
 ],
 "metadata": {
  "kernelspec": {
   "display_name": "Python 3",
   "language": "python",
   "name": "python3"
  },
  "language_info": {
   "codemirror_mode": {
    "name": "ipython",
    "version": 2
   },
   "file_extension": ".py",
   "mimetype": "text/x-python",
   "name": "python",
   "nbconvert_exporter": "python",
   "pygments_lexer": "ipython2",
   "version": "2.7.6"
  }
 },
 "nbformat": 4,
 "nbformat_minor": 5
}
